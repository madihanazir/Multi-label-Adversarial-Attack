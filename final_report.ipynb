{
  "nbformat": 4,
  "nbformat_minor": 0,
  "metadata": {
    "colab": {
      "provenance": [],
      "gpuType": "T4"
    },
    "kernelspec": {
      "name": "python3",
      "display_name": "Python 3"
    },
    "language_info": {
      "name": "python"
    },
    "accelerator": "GPU"
  },
  "cells": [
    {
      "cell_type": "code",
      "source": [
        "!unzip \"/content/drive/MyDrive/iit Hydrabad/adversarial_50_new.zip\" -d /content/adversarial_50"
      ],
      "metadata": {
        "colab": {
          "base_uri": "https://localhost:8080/"
        },
        "id": "ETc9sucAhv82",
        "outputId": "d413329b-9663-4bd9-fc33-330e92e13f08"
      },
      "execution_count": 5,
      "outputs": [
        {
          "output_type": "stream",
          "name": "stdout",
          "text": [
            "Archive:  /content/drive/MyDrive/iit Hydrabad/adversarial_50_new.zip\n",
            "replace /content/adversarial_50/content/adversarial_50/clean/images/clean_740.png? [y]es, [n]o, [A]ll, [N]one, [r]ename: "
          ]
        }
      ]
    },
    {
      "cell_type": "code",
      "source": [
        "!pip install -q flwr[simulation] flwr-datasets[vision]"
      ],
      "metadata": {
        "colab": {
          "base_uri": "https://localhost:8080/"
        },
        "id": "gVktHLVbhKhb",
        "outputId": "de256a37-f80a-4a08-f5bc-fd81ef1a4df6"
      },
      "execution_count": 6,
      "outputs": [
        {
          "output_type": "stream",
          "name": "stdout",
          "text": [
            "\u001b[2K   \u001b[90m━━━━━━━━━━━━━━━━━━━━━━━━━━━━━━━━━━━━━━━━\u001b[0m \u001b[32m66.7/66.7 MB\u001b[0m \u001b[31m10.4 MB/s\u001b[0m eta \u001b[36m0:00:00\u001b[0m\n",
            "\u001b[2K   \u001b[90m━━━━━━━━━━━━━━━━━━━━━━━━━━━━━━━━━━━━━━━━\u001b[0m \u001b[32m4.2/4.2 MB\u001b[0m \u001b[31m88.3 MB/s\u001b[0m eta \u001b[36m0:00:00\u001b[0m\n",
            "\u001b[2K   \u001b[90m━━━━━━━━━━━━━━━━━━━━━━━━━━━━━━━━━━━━━━━━\u001b[0m \u001b[32m480.6/480.6 kB\u001b[0m \u001b[31m31.0 MB/s\u001b[0m eta \u001b[36m0:00:00\u001b[0m\n",
            "\u001b[2K   \u001b[90m━━━━━━━━━━━━━━━━━━━━━━━━━━━━━━━━━━━━━━━━\u001b[0m \u001b[32m294.6/294.6 kB\u001b[0m \u001b[31m22.7 MB/s\u001b[0m eta \u001b[36m0:00:00\u001b[0m\n",
            "\u001b[2K   \u001b[90m━━━━━━━━━━━━━━━━━━━━━━━━━━━━━━━━━━━━━━━━\u001b[0m \u001b[32m2.3/2.3 MB\u001b[0m \u001b[31m71.7 MB/s\u001b[0m eta \u001b[36m0:00:00\u001b[0m\n",
            "\u001b[2K   \u001b[90m━━━━━━━━━━━━━━━━━━━━━━━━━━━━━━━━━━━━━━━━\u001b[0m \u001b[32m236.0/236.0 kB\u001b[0m \u001b[31m18.4 MB/s\u001b[0m eta \u001b[36m0:00:00\u001b[0m\n",
            "\u001b[2K   \u001b[90m━━━━━━━━━━━━━━━━━━━━━━━━━━━━━━━━━━━━━━━━\u001b[0m \u001b[32m47.3/47.3 kB\u001b[0m \u001b[31m3.6 MB/s\u001b[0m eta \u001b[36m0:00:00\u001b[0m\n",
            "\u001b[2K   \u001b[90m━━━━━━━━━━━━━━━━━━━━━━━━━━━━━━━━━━━━━━━━\u001b[0m \u001b[32m542.5/542.5 kB\u001b[0m \u001b[31m31.0 MB/s\u001b[0m eta \u001b[36m0:00:00\u001b[0m\n",
            "\u001b[2K   \u001b[90m━━━━━━━━━━━━━━━━━━━━━━━━━━━━━━━━━━━━━━━━\u001b[0m \u001b[32m87.0/87.0 kB\u001b[0m \u001b[31m6.8 MB/s\u001b[0m eta \u001b[36m0:00:00\u001b[0m\n",
            "\u001b[2K   \u001b[90m━━━━━━━━━━━━━━━━━━━━━━━━━━━━━━━━━━━━━━━━\u001b[0m \u001b[32m116.3/116.3 kB\u001b[0m \u001b[31m9.9 MB/s\u001b[0m eta \u001b[36m0:00:00\u001b[0m\n",
            "\u001b[2K   \u001b[90m━━━━━━━━━━━━━━━━━━━━━━━━━━━━━━━━━━━━━━━━\u001b[0m \u001b[32m179.3/179.3 kB\u001b[0m \u001b[31m14.0 MB/s\u001b[0m eta \u001b[36m0:00:00\u001b[0m\n",
            "\u001b[2K   \u001b[90m━━━━━━━━━━━━━━━━━━━━━━━━━━━━━━━━━━━━━━━━\u001b[0m \u001b[32m143.5/143.5 kB\u001b[0m \u001b[31m11.8 MB/s\u001b[0m eta \u001b[36m0:00:00\u001b[0m\n",
            "\u001b[2K   \u001b[90m━━━━━━━━━━━━━━━━━━━━━━━━━━━━━━━━━━━━━━━━\u001b[0m \u001b[32m194.8/194.8 kB\u001b[0m \u001b[31m16.1 MB/s\u001b[0m eta \u001b[36m0:00:00\u001b[0m\n",
            "\u001b[?25h\u001b[31mERROR: pip's dependency resolver does not currently take into account all the packages that are installed. This behaviour is the source of the following dependency conflicts.\n",
            "pydrive2 1.21.3 requires cryptography<44, but you have cryptography 44.0.2 which is incompatible.\n",
            "gcsfs 2025.3.2 requires fsspec==2025.3.2, but you have fsspec 2024.9.0 which is incompatible.\n",
            "pyopenssl 24.2.1 requires cryptography<44,>=41.0.5, but you have cryptography 44.0.2 which is incompatible.\n",
            "torch 2.6.0+cu124 requires nvidia-cublas-cu12==12.4.5.8; platform_system == \"Linux\" and platform_machine == \"x86_64\", but you have nvidia-cublas-cu12 12.5.3.2 which is incompatible.\n",
            "torch 2.6.0+cu124 requires nvidia-cuda-cupti-cu12==12.4.127; platform_system == \"Linux\" and platform_machine == \"x86_64\", but you have nvidia-cuda-cupti-cu12 12.5.82 which is incompatible.\n",
            "torch 2.6.0+cu124 requires nvidia-cuda-nvrtc-cu12==12.4.127; platform_system == \"Linux\" and platform_machine == \"x86_64\", but you have nvidia-cuda-nvrtc-cu12 12.5.82 which is incompatible.\n",
            "torch 2.6.0+cu124 requires nvidia-cuda-runtime-cu12==12.4.127; platform_system == \"Linux\" and platform_machine == \"x86_64\", but you have nvidia-cuda-runtime-cu12 12.5.82 which is incompatible.\n",
            "torch 2.6.0+cu124 requires nvidia-cudnn-cu12==9.1.0.70; platform_system == \"Linux\" and platform_machine == \"x86_64\", but you have nvidia-cudnn-cu12 9.3.0.75 which is incompatible.\n",
            "torch 2.6.0+cu124 requires nvidia-cufft-cu12==11.2.1.3; platform_system == \"Linux\" and platform_machine == \"x86_64\", but you have nvidia-cufft-cu12 11.2.3.61 which is incompatible.\n",
            "torch 2.6.0+cu124 requires nvidia-curand-cu12==10.3.5.147; platform_system == \"Linux\" and platform_machine == \"x86_64\", but you have nvidia-curand-cu12 10.3.6.82 which is incompatible.\n",
            "torch 2.6.0+cu124 requires nvidia-cusolver-cu12==11.6.1.9; platform_system == \"Linux\" and platform_machine == \"x86_64\", but you have nvidia-cusolver-cu12 11.6.3.83 which is incompatible.\n",
            "torch 2.6.0+cu124 requires nvidia-cusparse-cu12==12.3.1.170; platform_system == \"Linux\" and platform_machine == \"x86_64\", but you have nvidia-cusparse-cu12 12.5.1.3 which is incompatible.\n",
            "torch 2.6.0+cu124 requires nvidia-nvjitlink-cu12==12.4.127; platform_system == \"Linux\" and platform_machine == \"x86_64\", but you have nvidia-nvjitlink-cu12 12.5.82 which is incompatible.\n",
            "grpcio-status 1.71.0 requires protobuf<6.0dev,>=5.26.1, but you have protobuf 4.25.6 which is incompatible.\u001b[0m\u001b[31m\n",
            "\u001b[0m"
          ]
        }
      ]
    },
    {
      "cell_type": "code",
      "execution_count": 7,
      "metadata": {
        "id": "3_9hHgpOg3aU"
      },
      "outputs": [],
      "source": [
        "import os\n",
        "import random\n",
        "from collections import OrderedDict\n",
        "from typing import List, Tuple, Dict, Optional, Union\n",
        "\n",
        "import numpy as np\n",
        "import torch\n",
        "import torch.nn as nn\n",
        "import torchvision\n",
        "import torchvision.transforms as transforms\n",
        "from torch.utils.data import Dataset, DataLoader, random_split, ConcatDataset\n",
        "import torch.optim as optim\n",
        "from PIL import Image\n",
        "\n",
        "import flwr as fl\n",
        "from flwr.client import NumPyClient, Client, ClientApp\n",
        "from flwr.common import Metrics, NDArrays, Config, Context, parameters_to_ndarrays, Parameters\n",
        "from flwr.server.strategy import FedAvg\n",
        "from flwr.server import ServerApp, ServerConfig, ServerAppComponents\n",
        "from flwr.simulation import run_simulation\n",
        "\n",
        "import matplotlib.pyplot as plt\n",
        "import pandas as pd\n"
      ]
    },
    {
      "cell_type": "code",
      "source": [
        "# Set device to CUDA if available.\n",
        "DEVICE = \"cuda\" if torch.cuda.is_available() else \"cpu\"\n",
        "print(f\"Running on device: {DEVICE}\")\n",
        "print(f\"Flower version: {fl.__version__}\")\n"
      ],
      "metadata": {
        "colab": {
          "base_uri": "https://localhost:8080/"
        },
        "id": "cj4Aw0fkhGBV",
        "outputId": "efd270fc-ad06-4d3a-bfe2-e4e8fd93cc74"
      },
      "execution_count": 8,
      "outputs": [
        {
          "output_type": "stream",
          "name": "stdout",
          "text": [
            "Running on device: cuda\n",
            "Flower version: 1.17.0\n"
          ]
        }
      ]
    },
    {
      "cell_type": "code",
      "source": [
        "# Global constants\n",
        "NUM_CLIENTS = 5\n",
        "BATCH_SIZE = 4\n",
        "\n",
        "#########################################\n",
        "# Custom Dataset and Utility Functions  #\n",
        "#########################################\n",
        "\n",
        "class CustomSegDataset(Dataset):\n",
        "    \"\"\"Dataset for (image, mask) pairs, resized to 512×512.\"\"\"\n",
        "    def __init__(self, image_paths: List[str], mask_paths: List[str], transform=None):\n",
        "        super().__init__()\n",
        "        self.image_paths = image_paths\n",
        "        self.mask_paths = mask_paths\n",
        "        self.transform = transform\n",
        "\n",
        "    def __len__(self):\n",
        "        return len(self.image_paths)\n",
        "\n",
        "    def __getitem__(self, idx):\n",
        "        img_path = self.image_paths[idx]\n",
        "        mask_path = self.mask_paths[idx]\n",
        "\n",
        "        image = Image.open(img_path).convert(\"RGB\")\n",
        "        mask = Image.open(mask_path).convert(\"L\")  # single-channel\n",
        "\n",
        "        if self.transform is not None:\n",
        "            image = self.transform(image)\n",
        "            # For the mask, perform a manual resize and conversion:\n",
        "            mask = transforms.functional.resize(mask, (512, 512))\n",
        "            mask = transforms.functional.to_tensor(mask)\n",
        "        mask = mask.long().squeeze(dim=0)  # shape [H,W]\n",
        "        return image, mask"
      ],
      "metadata": {
        "id": "LL3qk4cRhIAh"
      },
      "execution_count": 11,
      "outputs": []
    },
    {
      "cell_type": "code",
      "source": [
        "def create_deeplabv3_model(num_classes=2) -> nn.Module:\n",
        "    model = torchvision.models.segmentation.deeplabv3_resnet50(weights=None)\n",
        "    # Adjust the classifier head\n",
        "    model.classifier[-1] = nn.Conv2d(256, num_classes, kernel_size=1)\n",
        "    return model.to(DEVICE)\n",
        "\n",
        "def dice_score(pred_mask: torch.Tensor, true_mask: torch.Tensor, smooth=1.0) -> float:\n",
        "    \"\"\"Compute Dice score for binary segmentation.\"\"\"\n",
        "    pred_flat = pred_mask.view(-1).float()\n",
        "    true_flat = true_mask.view(-1).float()\n",
        "    intersection = (pred_flat * true_flat).sum()\n",
        "    dice = (2.0 * intersection + smooth) / (pred_flat.sum() + true_flat.sum() + smooth)\n",
        "    return dice.item()\n"
      ],
      "metadata": {
        "id": "6Q7uJbzziCro"
      },
      "execution_count": 12,
      "outputs": []
    },
    {
      "cell_type": "code",
      "source": [
        "def train_one_epoch(model: nn.Module, loader: DataLoader, optimizer, criterion):\n",
        "    model.train()\n",
        "    running_loss = 0.0\n",
        "    for images, masks in loader:\n",
        "        images, masks = images.to(DEVICE), masks.to(DEVICE)\n",
        "        optimizer.zero_grad()\n",
        "        outputs = model(images)[\"out\"]  # shape [N,2,H,W]\n",
        "        loss = criterion(outputs, masks)\n",
        "        loss.backward()\n",
        "        optimizer.step()\n",
        "        running_loss += loss.item() * images.size(0)\n",
        "    return running_loss / len(loader.dataset)\n",
        "\n",
        "def evaluate_dice(model: nn.Module, loader: DataLoader) -> float:\n",
        "    \"\"\"Evaluate model using Dice score over a DataLoader.\"\"\"\n",
        "    model.eval()\n",
        "    all_dice = []\n",
        "    with torch.no_grad():\n",
        "        for images, masks in loader:\n",
        "            images, masks = images.to(DEVICE), masks.to(DEVICE)\n",
        "            outputs = model(images)[\"out\"]\n",
        "            preds = outputs.argmax(dim=1)\n",
        "            for i in range(preds.shape[0]):\n",
        "                d = dice_score(preds[i], masks[i])\n",
        "                all_dice.append(d)\n",
        "    return float(np.mean(all_dice)) if all_dice else 0.0\n"
      ],
      "metadata": {
        "id": "GdX87-rZiHCc"
      },
      "execution_count": 13,
      "outputs": []
    },
    {
      "cell_type": "code",
      "source": [
        "def get_parameters(model: nn.Module) -> List[np.ndarray]:\n",
        "    return [p.cpu().numpy() for p in model.state_dict().values()]\n",
        "\n",
        "def set_parameters(model: nn.Module, parameters: List[np.ndarray]):\n",
        "    state_dict = OrderedDict()\n",
        "    for (k, v), new_w in zip(model.state_dict().items(), parameters):\n",
        "        state_dict[k] = torch.tensor(new_w, dtype=v.dtype, device=DEVICE)\n",
        "    model.load_state_dict(state_dict, strict=True)"
      ],
      "metadata": {
        "id": "TlYjpx8xiJLs"
      },
      "execution_count": 14,
      "outputs": []
    },
    {
      "cell_type": "code",
      "source": [
        "def load_data_for_client(part_id: int,\n",
        "                         is_malicious: bool,\n",
        "                         malicious_data_percentage: float,\n",
        "                         val_fraction: float,\n",
        "                         batch_size: int = BATCH_SIZE) -> Tuple[DataLoader, DataLoader]:\n",
        "    \"\"\"\n",
        "    Create training and validation DataLoaders for a given client.\n",
        "    - Clean images are partitioned among clients in fixed blocks of 200 images.\n",
        "    - For non-malicious clients: training & validation are split from the allocated clean images.\n",
        "    - For malicious clients: training data is a combination of clean training images (80% of allocated clean images)\n",
        "      and a set of adversarial images from the client’s allocated adversarial block. The ratio is controlled by\n",
        "      malicious_data_percentage. Local evaluation is performed on the clean validation split only.\n",
        "    \"\"\"\n",
        "    base_dir = \"/content/adversarial_50/content/adversarial_50\"  # adjust if needed\n",
        "\n",
        "    # Directories for clean data.\n",
        "    clean_imgs_dir = os.path.join(base_dir, \"clean\", \"images\")\n",
        "    clean_msks_dir = os.path.join(base_dir, \"clean\", \"masks\")\n",
        "    all_clean_imgs = sorted([os.path.join(clean_imgs_dir, f)\n",
        "                             for f in os.listdir(clean_imgs_dir) if f.endswith(\".png\")])\n",
        "    all_clean_msks = sorted([os.path.join(clean_msks_dir, f)\n",
        "                             for f in os.listdir(clean_msks_dir) if f.endswith(\".png\")])\n",
        "    # Partition clean images: 200 images per client.\n",
        "    start_idx = part_id * 200\n",
        "    end_idx = (part_id + 1) * 200\n",
        "    allocated_clean_imgs = all_clean_imgs[start_idx:end_idx]\n",
        "    allocated_clean_msks = all_clean_msks[start_idx:end_idx]\n",
        "\n",
        "    transform_img = transforms.Compose([\n",
        "        transforms.Resize((512, 512)),\n",
        "        transforms.ToTensor(),\n",
        "    ])\n",
        "\n",
        "    if not is_malicious:\n",
        "        # Non-malicious: use allocated clean data for both training and validation.\n",
        "        dataset = CustomSegDataset(allocated_clean_imgs, allocated_clean_msks, transform=transform_img)\n",
        "        train_size = int((1 - val_fraction) * len(dataset))\n",
        "        val_size = len(dataset) - train_size\n",
        "        train_dataset, val_dataset = random_split(dataset, [train_size, val_size])\n",
        "    else:\n",
        "        # Malicious client: training data is a mix of clean and adversarial images.\n",
        "        # Step 1: Get allocated clean data and split into training and validation.\n",
        "        clean_dataset = CustomSegDataset(allocated_clean_imgs, allocated_clean_msks, transform=transform_img)\n",
        "        n_total = len(clean_dataset)  # should be 200\n",
        "        n_clean_train = int((1 - val_fraction) * n_total)\n",
        "        n_clean_val = n_total - n_clean_train\n",
        "        clean_train_dataset, clean_val_dataset = random_split(clean_dataset, [n_clean_train, n_clean_val])\n",
        "\n",
        "        # Step 2: Determine total training samples needed so that clean samples form (1 - malicious_data_percentage)\n",
        "        # of the training set.\n",
        "        total_train_needed = int(round(n_clean_train / (1 - malicious_data_percentage)))\n",
        "        n_adv_train = total_train_needed - n_clean_train\n",
        "\n",
        "        # Step 3: Get allocated adversarial images for this client.\n",
        "        adv_imgs_dir = os.path.join(base_dir, \"adversarial\", \"images\")\n",
        "        adv_msks_dir = os.path.join(base_dir, \"adversarial\", \"masks\")\n",
        "        all_adv_imgs = sorted([os.path.join(adv_imgs_dir, f)\n",
        "                              for f in os.listdir(adv_imgs_dir) if f.endswith(\".png\")])\n",
        "        all_adv_msks = sorted([os.path.join(adv_msks_dir, f)\n",
        "                              for f in os.listdir(adv_msks_dir) if f.endswith(\".png\")])\n",
        "        allocated_adv_imgs = all_adv_imgs[start_idx:end_idx]\n",
        "        allocated_adv_msks = all_adv_msks[start_idx:end_idx]\n",
        "        adv_dataset = CustomSegDataset(allocated_adv_imgs, allocated_adv_msks, transform=transform_img)\n",
        "        # Sample n_adv_train images randomly from allocated adversarial data.\n",
        "        # If n_adv_train exceeds the available number, we take the whole set.\n",
        "        indices = list(range(len(adv_dataset)))\n",
        "        random.shuffle(indices)\n",
        "        selected_indices = indices[:min(n_adv_train, len(adv_dataset))]\n",
        "        adv_train_subset = torch.utils.data.Subset(adv_dataset, selected_indices)\n",
        "\n",
        "        # Combine clean training and adversarial subsets.\n",
        "        train_dataset = ConcatDataset([clean_train_dataset, adv_train_subset])\n",
        "        # Validation remains clean.\n",
        "        val_dataset = clean_val_dataset\n",
        "\n",
        "    train_loader = DataLoader(train_dataset, batch_size=batch_size, shuffle=True, drop_last=False)\n",
        "    val_loader = DataLoader(val_dataset, batch_size=batch_size, shuffle=False, drop_last=False)\n",
        "    return train_loader, val_loader\n"
      ],
      "metadata": {
        "id": "K4ijlsFMiL5H"
      },
      "execution_count": 15,
      "outputs": []
    },
    {
      "cell_type": "code",
      "source": [
        "def load_clean_eval_data(batch_size: int = BATCH_SIZE) -> DataLoader:\n",
        "    \"\"\"\n",
        "    Loads a set of clean images (e.g., 100 images) for global evaluation.\n",
        "    \"\"\"\n",
        "    base_dir = \"/content/adversarial_50/content/adversarial_50/\"\n",
        "    clean_imgs_dir = os.path.join(base_dir, \"clean\", \"images\")\n",
        "    clean_msks_dir = os.path.join(base_dir, \"clean\", \"masks\")\n",
        "    all_clean_imgs = sorted([os.path.join(clean_imgs_dir, f)\n",
        "                             for f in os.listdir(clean_imgs_dir) if f.endswith(\".png\")])\n",
        "    all_clean_msks = sorted([os.path.join(clean_msks_dir, f)\n",
        "                             for f in os.listdir(clean_msks_dir) if f.endswith(\".png\")])\n",
        "    # Select the first 100 images (or use random.sample for a random selection)\n",
        "    eval_imgs = all_clean_imgs[0:100]\n",
        "    eval_msks = all_clean_msks[0:100]\n",
        "\n",
        "    transform_img = transforms.Compose([\n",
        "        transforms.Resize((512, 512)),\n",
        "        transforms.ToTensor(),\n",
        "    ])\n",
        "    dataset = CustomSegDataset(eval_imgs, eval_msks, transform=transform_img)\n",
        "    loader = DataLoader(dataset, batch_size=batch_size, shuffle=False, drop_last=False)\n",
        "    return loader\n"
      ],
      "metadata": {
        "id": "1TJaLXv1iOPv"
      },
      "execution_count": 16,
      "outputs": []
    },
    {
      "cell_type": "code",
      "source": [
        "#########################################\n",
        "# Flower Client and Server Definitions  #\n",
        "#########################################\n",
        "\n",
        "class SegmentationClient(NumPyClient):\n",
        "    def __init__(self, cid: int, model: nn.Module, trainloader: DataLoader, valloader: DataLoader, epochs: int):\n",
        "        self.cid = cid\n",
        "        self.model = model\n",
        "        self.trainloader = trainloader\n",
        "        self.valloader = valloader\n",
        "        self.epochs = epochs\n",
        "\n",
        "    def get_parameters(self, config):\n",
        "        return get_parameters(self.model)\n",
        "\n",
        "    def fit(self, parameters, config):\n",
        "        set_parameters(self.model, parameters)\n",
        "        optimizer = optim.Adam(self.model.parameters(), lr=1e-4)\n",
        "        criterion = nn.CrossEntropyLoss()\n",
        "        for e in range(self.epochs):\n",
        "            train_loss = train_one_epoch(self.model, self.trainloader, optimizer, criterion)\n",
        "            print(f\"[Client {self.cid}] Epoch {e+1} train loss: {train_loss:.4f}\")\n",
        "        return get_parameters(self.model), len(self.trainloader.dataset), {}\n",
        "\n",
        "    def evaluate(self, parameters, config):\n",
        "        set_parameters(self.model, parameters)\n",
        "        self.model.eval()\n",
        "        criterion = nn.CrossEntropyLoss()\n",
        "        total_loss = 0.0\n",
        "        total_samples = 0\n",
        "        dice_vals = []\n",
        "        with torch.no_grad():\n",
        "            for images, masks in self.valloader:\n",
        "                images, masks = images.to(DEVICE), masks.to(DEVICE)\n",
        "                outputs = self.model(images)[\"out\"]\n",
        "                loss = criterion(outputs, masks)\n",
        "                batch_size = images.size(0)\n",
        "                total_loss += loss.item() * batch_size\n",
        "                total_samples += batch_size\n",
        "                preds = outputs.argmax(dim=1)\n",
        "                for i in range(batch_size):\n",
        "                    d = dice_score(preds[i], masks[i])\n",
        "                    dice_vals.append(d)\n",
        "        avg_loss = total_loss / total_samples if total_samples > 0 else 0.0\n",
        "        avg_dice = float(np.mean(dice_vals)) if dice_vals else 0.0\n",
        "        print(f\"[Client {self.cid}] Local evaluation loss: {avg_loss:.4f}, Dice: {avg_dice:.4f}\")\n",
        "        return float(avg_loss), total_samples, {\"dice\": avg_dice}\n"
      ],
      "metadata": {
        "id": "GRIrYvl6iQ90"
      },
      "execution_count": 17,
      "outputs": []
    },
    {
      "cell_type": "code",
      "source": [
        "class DiceEvalFedAvg(FedAvg):\n",
        "    def __init__(self, global_model: nn.Module, clean_eval_loader: DataLoader, *args, **kwargs):\n",
        "        super().__init__(*args, **kwargs)\n",
        "        self.global_model = global_model\n",
        "        self.clean_eval_loader = clean_eval_loader\n",
        "        self.latest_parameters = None\n",
        "        self.global_dice_history = []  # to record global dice score per round\n",
        "\n",
        "    def aggregate_fit(self, server_round: int, results, failures) -> Tuple[Optional[Parameters], Dict[str, float]]:\n",
        "        aggregated_parameters, aggregated_metrics = super().aggregate_fit(server_round, results, failures)\n",
        "        self.latest_parameters = aggregated_parameters\n",
        "        return aggregated_parameters, aggregated_metrics\n",
        "\n",
        "    def aggregate_evaluate(self, rnd, results, failures):\n",
        "        aggregated_loss, aggregated_metrics = super().aggregate_evaluate(rnd, results, failures)\n",
        "        if self.latest_parameters is not None:\n",
        "            new_params = parameters_to_ndarrays(self.latest_parameters)\n",
        "            set_parameters(self.global_model, new_params)\n",
        "            dice_val = evaluate_dice(self.global_model, self.clean_eval_loader)\n",
        "            print(f\"[Round {rnd}] Global Dice (on clean eval) = {dice_val:.4f}\")\n",
        "            self.global_dice_history.append(dice_val)\n",
        "            if aggregated_metrics is not None:\n",
        "                aggregated_metrics[\"global_clean_dice\"] = dice_val\n",
        "        return aggregated_loss, aggregated_metrics\n",
        "\n",
        "def weighted_average(metrics: List[Tuple[int, Dict[str, float]]]) -> Dict[str, float]:\n",
        "    total_samples = sum(num for num, _ in metrics)\n",
        "    aggregated_dice = sum(num * m.get(\"dice\", 0.0) for num, m in metrics)\n",
        "    return {\"global_clean_dice\": aggregated_dice / total_samples if total_samples > 0 else 0.0}\n"
      ],
      "metadata": {
        "id": "2h95ovbOiTF2"
      },
      "execution_count": 18,
      "outputs": []
    },
    {
      "cell_type": "code",
      "source": [
        "#########################################\n",
        "# Flower Client Function                #\n",
        "#########################################\n",
        "def client_fn(context: Context) -> Client:\n",
        "    node_config = context.node_config\n",
        "    partition_id = node_config[\"partition-id\"]\n",
        "    is_malicious = node_config.get(\"is_malicious\", False)\n",
        "    malicious_data_percentage = node_config.get(\"malicious_data_percentage\", 0.5)\n",
        "    val_fraction = node_config.get(\"val_fraction\", 0.2)\n",
        "    local_epochs = node_config.get(\"local_epochs\", 2)\n",
        "\n",
        "    trainloader, valloader = load_data_for_client(partition_id,\n",
        "                                                  is_malicious,\n",
        "                                                  malicious_data_percentage,\n",
        "                                                  val_fraction,\n",
        "                                                  batch_size=BATCH_SIZE)\n",
        "    local_model = create_deeplabv3_model(num_classes=2)\n",
        "    return SegmentationClient(partition_id, local_model, trainloader, valloader, epochs=local_epochs).to_client()\n"
      ],
      "metadata": {
        "colab": {
          "base_uri": "https://localhost:8080/",
          "height": 211
        },
        "id": "T5YsEx8giTr1",
        "outputId": "367be82c-9766-4976-da8d-31986ae6b285"
      },
      "execution_count": 2,
      "outputs": [
        {
          "output_type": "error",
          "ename": "NameError",
          "evalue": "name 'Context' is not defined",
          "traceback": [
            "\u001b[0;31m---------------------------------------------------------------------------\u001b[0m",
            "\u001b[0;31mNameError\u001b[0m                                 Traceback (most recent call last)",
            "\u001b[0;32m<ipython-input-2-ee73372c6e4e>\u001b[0m in \u001b[0;36m<cell line: 0>\u001b[0;34m()\u001b[0m\n\u001b[1;32m      2\u001b[0m \u001b[0;31m# Flower Client Function                #\u001b[0m\u001b[0;34m\u001b[0m\u001b[0;34m\u001b[0m\u001b[0m\n\u001b[1;32m      3\u001b[0m \u001b[0;31m#########################################\u001b[0m\u001b[0;34m\u001b[0m\u001b[0;34m\u001b[0m\u001b[0m\n\u001b[0;32m----> 4\u001b[0;31m \u001b[0;32mdef\u001b[0m \u001b[0mclient_fn\u001b[0m\u001b[0;34m(\u001b[0m\u001b[0mcontext\u001b[0m\u001b[0;34m:\u001b[0m \u001b[0mContext\u001b[0m\u001b[0;34m)\u001b[0m \u001b[0;34m->\u001b[0m \u001b[0mClient\u001b[0m\u001b[0;34m:\u001b[0m\u001b[0;34m\u001b[0m\u001b[0;34m\u001b[0m\u001b[0m\n\u001b[0m\u001b[1;32m      5\u001b[0m     \u001b[0mnode_config\u001b[0m \u001b[0;34m=\u001b[0m \u001b[0mcontext\u001b[0m\u001b[0;34m.\u001b[0m\u001b[0mnode_config\u001b[0m\u001b[0;34m\u001b[0m\u001b[0;34m\u001b[0m\u001b[0m\n\u001b[1;32m      6\u001b[0m     \u001b[0mpartition_id\u001b[0m \u001b[0;34m=\u001b[0m \u001b[0mnode_config\u001b[0m\u001b[0;34m[\u001b[0m\u001b[0;34m\"partition-id\"\u001b[0m\u001b[0;34m]\u001b[0m\u001b[0;34m\u001b[0m\u001b[0;34m\u001b[0m\u001b[0m\n",
            "\u001b[0;31mNameError\u001b[0m: name 'Context' is not defined"
          ]
        }
      ]
    },
    {
      "cell_type": "code",
      "source": [
        "def run_experiment(num_global_rounds: int,\n",
        "                   local_epochs: int,\n",
        "                   malicious_data_percentage: float,\n",
        "                   num_malicious_clients: int,\n",
        "                   batch_size: int = BATCH_SIZE,\n",
        "                   val_fraction: float = 0.2) -> List[float]:\n",
        "    \"\"\"\n",
        "    Sets up and runs a federated learning simulation with 5 clients.\n",
        "\n",
        "    Parameters:\n",
        "      - num_global_rounds: Number of global rounds for federated learning.\n",
        "      - local_epochs: Number of local epochs per client per round.\n",
        "      - malicious_data_percentage: Fraction of adversarial data in the training set for malicious clients.\n",
        "      - num_malicious_clients: Number of malicious clients among the 5.\n",
        "      - batch_size: Batch size for DataLoaders.\n",
        "      - val_fraction: Fraction of allocated clean data used for local evaluation.\n",
        "\n",
        "    Returns:\n",
        "      - A list of global Dice scores (one per round) evaluated on a fixed clean dataset.\n",
        "    \"\"\"\n",
        "\n",
        "    # Define node configurations for 5 clients.\n",
        "    # We choose the last `num_malicious_clients` clients (with higher client ids) to be malicious.\n",
        "    node_configs = []\n",
        "    for i in range(NUM_CLIENTS):\n",
        "        is_malicious = (i >= NUM_CLIENTS - num_malicious_clients)\n",
        "        config = {\n",
        "            \"partition-id\": i,\n",
        "            \"is_malicious\": is_malicious,\n",
        "            \"malicious_data_percentage\": malicious_data_percentage,\n",
        "            \"val_fraction\": val_fraction,\n",
        "            \"local_epochs\": local_epochs,\n",
        "        }\n",
        "        node_configs.append(config)\n",
        "\n",
        "    # Create global evaluation loader.\n",
        "    clean_eval_loader = load_clean_eval_data(batch_size=batch_size)\n",
        "    # Create the global model.\n",
        "    global_model = create_deeplabv3_model(num_classes=2)\n",
        "\n",
        "    # Create our custom strategy with a reference to the global model and evaluation loader.\n",
        "    strategy = DiceEvalFedAvg(\n",
        "        global_model=global_model,\n",
        "        clean_eval_loader=clean_eval_loader,\n",
        "        fraction_fit=1.0,\n",
        "        fraction_evaluate=1.0,\n",
        "        min_fit_clients=NUM_CLIENTS,\n",
        "        min_evaluate_clients=NUM_CLIENTS,\n",
        "        min_available_clients=NUM_CLIENTS,\n",
        "        evaluate_metrics_aggregation_fn=weighted_average,\n",
        "    )\n",
        "\n",
        "    # Server function using the above strategy.\n",
        "    def server_fn_modified(ctx: Context) -> ServerAppComponents:\n",
        "        config = ServerConfig(num_rounds=num_global_rounds)\n",
        "        return ServerAppComponents(strategy=strategy, config=config)\n",
        "\n",
        "    backend_config = {\n",
        "        \"client_resources\": {\"num_cpus\": 1, \"num_gpus\": 0.0}\n",
        "    }\n",
        "    if DEVICE == \"cuda\":\n",
        "        backend_config[\"client_resources\"][\"num_gpus\"] = 1.0\n",
        "\n",
        "    # Run simulation with the provided node_configs.\n",
        "    simulation_result = run_simulation(\n",
        "        server_app=ServerApp(server_fn=server_fn_modified),\n",
        "        client_app=ClientApp(client_fn=client_fn),\n",
        "        num_supernodes=NUM_CLIENTS,\n",
        "        backend_config=backend_config,\n",
        "    )\n",
        "\n",
        "    # Return the global Dice history from the strategy.\n",
        "    return strategy.global_dice_history"
      ],
      "metadata": {
        "id": "b_Kmu3vfiWFT"
      },
      "execution_count": 22,
      "outputs": []
    },
    {
      "cell_type": "code",
      "source": [
        "\n",
        "# Experiment parameters\n",
        "num_global_rounds = 5\n",
        "local_epochs = 2\n",
        "malicious_data_percentage = 0.5  # 50% adversarial in training for malicious clients\n",
        "batch_size = BATCH_SIZE\n",
        "val_fraction = 0.2\n",
        "\n",
        "# Run experiments for different numbers of malicious clients.\n",
        "exp_configurations = {\n",
        "    \"All Clean (0 malicious)\": 0,\n",
        "    \"1 malicious client\": 1,\n",
        "    \"3 malicious clients\": 3\n",
        "}\n",
        "\n",
        "results = {}\n",
        "for label, num_malicious in exp_configurations.items():\n",
        "    print(f\"\\n--- Running experiment: {label} ---\")\n",
        "    dice_history = run_experiment(num_global_rounds,\n",
        "                                  local_epochs,\n",
        "                                  malicious_data_percentage,\n",
        "                                  num_malicious,\n",
        "                                  batch_size,\n",
        "                                  val_fraction)\n",
        "    results[label] = dice_history\n"
      ],
      "metadata": {
        "colab": {
          "base_uri": "https://localhost:8080/"
        },
        "id": "CRUwdbjuic2x",
        "outputId": "dad94aa6-a86b-4d7e-e8b8-c7590a49cebb"
      },
      "execution_count": 23,
      "outputs": [
        {
          "output_type": "stream",
          "name": "stdout",
          "text": [
            "\n",
            "--- Running experiment: All Clean (0 malicious) ---\n"
          ]
        },
        {
          "output_type": "stream",
          "name": "stderr",
          "text": [
            "DEBUG:flwr:Asyncio event loop already running.\n",
            "\u001b[92mINFO \u001b[0m:      Starting Flower ServerApp, config: num_rounds=5, no round_timeout\n",
            "\u001b[92mINFO \u001b[0m:      \n",
            "\u001b[92mINFO \u001b[0m:      [INIT]\n",
            "\u001b[92mINFO \u001b[0m:      Requesting initial parameters from one random client\n",
            "\u001b[36m(pid=2665)\u001b[0m 2025-04-08 17:55:30.836442: E external/local_xla/xla/stream_executor/cuda/cuda_fft.cc:477] Unable to register cuFFT factory: Attempting to register factory for plugin cuFFT when one has already been registered\n",
            "\u001b[36m(pid=2665)\u001b[0m WARNING: All log messages before absl::InitializeLog() is called are written to STDERR\n",
            "\u001b[36m(pid=2665)\u001b[0m E0000 00:00:1744134930.856631    2665 cuda_dnn.cc:8310] Unable to register cuDNN factory: Attempting to register factory for plugin cuDNN when one has already been registered\n",
            "\u001b[36m(pid=2665)\u001b[0m E0000 00:00:1744134930.862925    2665 cuda_blas.cc:1418] Unable to register cuBLAS factory: Attempting to register factory for plugin cuBLAS when one has already been registered\n",
            "\u001b[36m(ClientAppActor pid=2665)\u001b[0m \u001b[93mWARNING \u001b[0m:   Deprecation Warning: The `client_fn` function must return an instance of `Client`, but an instance of `NumpyClient` was returned. Please use `NumPyClient.to_client()` method to convert it to `Client`.\n",
            "\u001b[92mINFO \u001b[0m:      Received initial parameters from one random client\n",
            "\u001b[92mINFO \u001b[0m:      Starting evaluation of initial global parameters\n",
            "\u001b[92mINFO \u001b[0m:      Evaluation returned no results (`None`)\n",
            "\u001b[92mINFO \u001b[0m:      \n",
            "\u001b[92mINFO \u001b[0m:      [ROUND 1]\n",
            "\u001b[92mINFO \u001b[0m:      configure_fit: strategy sampled 5 clients (out of 5)\n",
            "\u001b[36m(ClientAppActor pid=2665)\u001b[0m \u001b[93mWARNING \u001b[0m:   Deprecation Warning: The `client_fn` function must return an instance of `Client`, but an instance of `NumpyClient` was returned. Please use `NumPyClient.to_client()` method to convert it to `Client`.\n"
          ]
        },
        {
          "output_type": "stream",
          "name": "stdout",
          "text": [
            "\u001b[36m(ClientAppActor pid=2665)\u001b[0m [Client 0] Epoch 1 train loss: 0.3286\n",
            "\u001b[36m(ClientAppActor pid=2665)\u001b[0m [Client 0] Epoch 2 train loss: 0.0773\n"
          ]
        },
        {
          "output_type": "stream",
          "name": "stderr",
          "text": [
            "\u001b[36m(ClientAppActor pid=2665)\u001b[0m \u001b[93mWARNING \u001b[0m:   Deprecation Warning: The `client_fn` function must return an instance of `Client`, but an instance of `NumpyClient` was returned. Please use `NumPyClient.to_client()` method to convert it to `Client`.\n"
          ]
        },
        {
          "output_type": "stream",
          "name": "stdout",
          "text": [
            "\u001b[36m(ClientAppActor pid=2665)\u001b[0m [Client 1] Epoch 1 train loss: 0.3348\n",
            "\u001b[36m(ClientAppActor pid=2665)\u001b[0m [Client 1] Epoch 2 train loss: 0.0810\n"
          ]
        },
        {
          "output_type": "stream",
          "name": "stderr",
          "text": [
            "\u001b[36m(ClientAppActor pid=2665)\u001b[0m \u001b[93mWARNING \u001b[0m:   Deprecation Warning: The `client_fn` function must return an instance of `Client`, but an instance of `NumpyClient` was returned. Please use `NumPyClient.to_client()` method to convert it to `Client`.\n"
          ]
        },
        {
          "output_type": "stream",
          "name": "stdout",
          "text": [
            "\u001b[36m(ClientAppActor pid=2665)\u001b[0m [Client 2] Epoch 1 train loss: 0.3295\n",
            "\u001b[36m(ClientAppActor pid=2665)\u001b[0m [Client 2] Epoch 2 train loss: 0.0711\n"
          ]
        },
        {
          "output_type": "stream",
          "name": "stderr",
          "text": [
            "\u001b[36m(ClientAppActor pid=2665)\u001b[0m \u001b[93mWARNING \u001b[0m:   Deprecation Warning: The `client_fn` function must return an instance of `Client`, but an instance of `NumpyClient` was returned. Please use `NumPyClient.to_client()` method to convert it to `Client`.\n"
          ]
        },
        {
          "output_type": "stream",
          "name": "stdout",
          "text": [
            "\u001b[36m(ClientAppActor pid=2665)\u001b[0m [Client 3] Epoch 1 train loss: 0.3378\n",
            "\u001b[36m(ClientAppActor pid=2665)\u001b[0m [Client 3] Epoch 2 train loss: 0.0784\n"
          ]
        },
        {
          "output_type": "stream",
          "name": "stderr",
          "text": [
            "\u001b[36m(ClientAppActor pid=2665)\u001b[0m \u001b[93mWARNING \u001b[0m:   Deprecation Warning: The `client_fn` function must return an instance of `Client`, but an instance of `NumpyClient` was returned. Please use `NumPyClient.to_client()` method to convert it to `Client`.\n"
          ]
        },
        {
          "output_type": "stream",
          "name": "stdout",
          "text": [
            "\u001b[36m(ClientAppActor pid=2665)\u001b[0m [Client 4] Epoch 1 train loss: 0.3350\n",
            "\u001b[36m(ClientAppActor pid=2665)\u001b[0m [Client 4] Epoch 2 train loss: 0.0871\n"
          ]
        },
        {
          "output_type": "stream",
          "name": "stderr",
          "text": [
            "\u001b[92mINFO \u001b[0m:      aggregate_fit: received 5 results and 0 failures\n",
            "\u001b[93mWARNING \u001b[0m:   No fit_metrics_aggregation_fn provided\n",
            "\u001b[92mINFO \u001b[0m:      configure_evaluate: strategy sampled 5 clients (out of 5)\n",
            "\u001b[36m(ClientAppActor pid=2665)\u001b[0m \u001b[93mWARNING \u001b[0m:   Deprecation Warning: The `client_fn` function must return an instance of `Client`, but an instance of `NumpyClient` was returned. Please use `NumPyClient.to_client()` method to convert it to `Client`.\n"
          ]
        },
        {
          "output_type": "stream",
          "name": "stdout",
          "text": [
            "\u001b[36m(ClientAppActor pid=2665)\u001b[0m [Client 0] Local evaluation loss: 0.3044, Dice: 0.5652\n"
          ]
        },
        {
          "output_type": "stream",
          "name": "stderr",
          "text": [
            "\u001b[36m(ClientAppActor pid=2665)\u001b[0m \u001b[93mWARNING \u001b[0m:   Deprecation Warning: The `client_fn` function must return an instance of `Client`, but an instance of `NumpyClient` was returned. Please use `NumPyClient.to_client()` method to convert it to `Client`.\n"
          ]
        },
        {
          "output_type": "stream",
          "name": "stdout",
          "text": [
            "\u001b[36m(ClientAppActor pid=2665)\u001b[0m [Client 1] Local evaluation loss: 0.3043, Dice: 0.4155\n"
          ]
        },
        {
          "output_type": "stream",
          "name": "stderr",
          "text": [
            "\u001b[36m(ClientAppActor pid=2665)\u001b[0m \u001b[93mWARNING \u001b[0m:   Deprecation Warning: The `client_fn` function must return an instance of `Client`, but an instance of `NumpyClient` was returned. Please use `NumPyClient.to_client()` method to convert it to `Client`.\n"
          ]
        },
        {
          "output_type": "stream",
          "name": "stdout",
          "text": [
            "\u001b[36m(ClientAppActor pid=2665)\u001b[0m [Client 2] Local evaluation loss: 0.3032, Dice: 0.5298\n"
          ]
        },
        {
          "output_type": "stream",
          "name": "stderr",
          "text": [
            "\u001b[36m(ClientAppActor pid=2665)\u001b[0m \u001b[93mWARNING \u001b[0m:   Deprecation Warning: The `client_fn` function must return an instance of `Client`, but an instance of `NumpyClient` was returned. Please use `NumPyClient.to_client()` method to convert it to `Client`.\n"
          ]
        },
        {
          "output_type": "stream",
          "name": "stdout",
          "text": [
            "\u001b[36m(ClientAppActor pid=2665)\u001b[0m [Client 3] Local evaluation loss: 0.3054, Dice: 0.5796\n"
          ]
        },
        {
          "output_type": "stream",
          "name": "stderr",
          "text": [
            "\u001b[36m(ClientAppActor pid=2665)\u001b[0m \u001b[93mWARNING \u001b[0m:   Deprecation Warning: The `client_fn` function must return an instance of `Client`, but an instance of `NumpyClient` was returned. Please use `NumPyClient.to_client()` method to convert it to `Client`.\n",
            "\u001b[92mINFO \u001b[0m:      aggregate_evaluate: received 5 results and 0 failures\n"
          ]
        },
        {
          "output_type": "stream",
          "name": "stdout",
          "text": [
            "\u001b[36m(ClientAppActor pid=2665)\u001b[0m [Client 4] Local evaluation loss: 0.3076, Dice: 0.3778\n"
          ]
        },
        {
          "output_type": "stream",
          "name": "stderr",
          "text": [
            "\u001b[92mINFO \u001b[0m:      \n",
            "\u001b[92mINFO \u001b[0m:      [ROUND 2]\n",
            "\u001b[92mINFO \u001b[0m:      configure_fit: strategy sampled 5 clients (out of 5)\n"
          ]
        },
        {
          "output_type": "stream",
          "name": "stdout",
          "text": [
            "[Round 1] Global Dice (on clean eval) = 0.5171\n"
          ]
        },
        {
          "output_type": "stream",
          "name": "stderr",
          "text": [
            "\u001b[36m(ClientAppActor pid=2665)\u001b[0m \u001b[93mWARNING \u001b[0m:   Deprecation Warning: The `client_fn` function must return an instance of `Client`, but an instance of `NumpyClient` was returned. Please use `NumPyClient.to_client()` method to convert it to `Client`.\n"
          ]
        },
        {
          "output_type": "stream",
          "name": "stdout",
          "text": [
            "\u001b[36m(ClientAppActor pid=2665)\u001b[0m [Client 0] Epoch 1 train loss: 0.0573\n",
            "\u001b[36m(ClientAppActor pid=2665)\u001b[0m [Client 0] Epoch 2 train loss: 0.0256\n"
          ]
        },
        {
          "output_type": "stream",
          "name": "stderr",
          "text": [
            "\u001b[36m(ClientAppActor pid=2665)\u001b[0m \u001b[93mWARNING \u001b[0m:   Deprecation Warning: The `client_fn` function must return an instance of `Client`, but an instance of `NumpyClient` was returned. Please use `NumPyClient.to_client()` method to convert it to `Client`.\n"
          ]
        },
        {
          "output_type": "stream",
          "name": "stdout",
          "text": [
            "\u001b[36m(ClientAppActor pid=2665)\u001b[0m [Client 1] Epoch 1 train loss: 0.0556\n",
            "\u001b[36m(ClientAppActor pid=2665)\u001b[0m [Client 1] Epoch 2 train loss: 0.0232\n"
          ]
        },
        {
          "output_type": "stream",
          "name": "stderr",
          "text": [
            "\u001b[36m(ClientAppActor pid=2665)\u001b[0m \u001b[93mWARNING \u001b[0m:   Deprecation Warning: The `client_fn` function must return an instance of `Client`, but an instance of `NumpyClient` was returned. Please use `NumPyClient.to_client()` method to convert it to `Client`.\n"
          ]
        },
        {
          "output_type": "stream",
          "name": "stdout",
          "text": [
            "\u001b[36m(ClientAppActor pid=2665)\u001b[0m [Client 2] Epoch 1 train loss: 0.0569\n",
            "\u001b[36m(ClientAppActor pid=2665)\u001b[0m [Client 2] Epoch 2 train loss: 0.0236\n"
          ]
        },
        {
          "output_type": "stream",
          "name": "stderr",
          "text": [
            "\u001b[36m(ClientAppActor pid=2665)\u001b[0m \u001b[93mWARNING \u001b[0m:   Deprecation Warning: The `client_fn` function must return an instance of `Client`, but an instance of `NumpyClient` was returned. Please use `NumPyClient.to_client()` method to convert it to `Client`.\n"
          ]
        },
        {
          "output_type": "stream",
          "name": "stdout",
          "text": [
            "\u001b[36m(ClientAppActor pid=2665)\u001b[0m [Client 3] Epoch 1 train loss: 0.0545\n",
            "\u001b[36m(ClientAppActor pid=2665)\u001b[0m [Client 3] Epoch 2 train loss: 0.0235\n"
          ]
        },
        {
          "output_type": "stream",
          "name": "stderr",
          "text": [
            "\u001b[36m(ClientAppActor pid=2665)\u001b[0m \u001b[93mWARNING \u001b[0m:   Deprecation Warning: The `client_fn` function must return an instance of `Client`, but an instance of `NumpyClient` was returned. Please use `NumPyClient.to_client()` method to convert it to `Client`.\n"
          ]
        },
        {
          "output_type": "stream",
          "name": "stdout",
          "text": [
            "\u001b[36m(ClientAppActor pid=2665)\u001b[0m [Client 4] Epoch 1 train loss: 0.0620\n",
            "\u001b[36m(ClientAppActor pid=2665)\u001b[0m [Client 4] Epoch 2 train loss: 0.0290\n"
          ]
        },
        {
          "output_type": "stream",
          "name": "stderr",
          "text": [
            "\u001b[92mINFO \u001b[0m:      aggregate_fit: received 5 results and 0 failures\n",
            "\u001b[92mINFO \u001b[0m:      configure_evaluate: strategy sampled 5 clients (out of 5)\n",
            "\u001b[36m(ClientAppActor pid=2665)\u001b[0m \u001b[93mWARNING \u001b[0m:   Deprecation Warning: The `client_fn` function must return an instance of `Client`, but an instance of `NumpyClient` was returned. Please use `NumPyClient.to_client()` method to convert it to `Client`.\n"
          ]
        },
        {
          "output_type": "stream",
          "name": "stdout",
          "text": [
            "\u001b[36m(ClientAppActor pid=2665)\u001b[0m [Client 0] Local evaluation loss: 0.0251, Dice: 0.7981\n"
          ]
        },
        {
          "output_type": "stream",
          "name": "stderr",
          "text": [
            "\u001b[36m(ClientAppActor pid=2665)\u001b[0m \u001b[93mWARNING \u001b[0m:   Deprecation Warning: The `client_fn` function must return an instance of `Client`, but an instance of `NumpyClient` was returned. Please use `NumPyClient.to_client()` method to convert it to `Client`.\n"
          ]
        },
        {
          "output_type": "stream",
          "name": "stdout",
          "text": [
            "\u001b[36m(ClientAppActor pid=2665)\u001b[0m [Client 1] Local evaluation loss: 0.0248, Dice: 0.7816\n"
          ]
        },
        {
          "output_type": "stream",
          "name": "stderr",
          "text": [
            "\u001b[36m(ClientAppActor pid=2665)\u001b[0m \u001b[93mWARNING \u001b[0m:   Deprecation Warning: The `client_fn` function must return an instance of `Client`, but an instance of `NumpyClient` was returned. Please use `NumPyClient.to_client()` method to convert it to `Client`.\n"
          ]
        },
        {
          "output_type": "stream",
          "name": "stdout",
          "text": [
            "\u001b[36m(ClientAppActor pid=2665)\u001b[0m [Client 2] Local evaluation loss: 0.0274, Dice: 0.7564\n"
          ]
        },
        {
          "output_type": "stream",
          "name": "stderr",
          "text": [
            "\u001b[36m(ClientAppActor pid=2665)\u001b[0m \u001b[93mWARNING \u001b[0m:   Deprecation Warning: The `client_fn` function must return an instance of `Client`, but an instance of `NumpyClient` was returned. Please use `NumPyClient.to_client()` method to convert it to `Client`.\n"
          ]
        },
        {
          "output_type": "stream",
          "name": "stdout",
          "text": [
            "\u001b[36m(ClientAppActor pid=2665)\u001b[0m [Client 3] Local evaluation loss: 0.0278, Dice: 0.7314\n"
          ]
        },
        {
          "output_type": "stream",
          "name": "stderr",
          "text": [
            "\u001b[36m(ClientAppActor pid=2665)\u001b[0m \u001b[93mWARNING \u001b[0m:   Deprecation Warning: The `client_fn` function must return an instance of `Client`, but an instance of `NumpyClient` was returned. Please use `NumPyClient.to_client()` method to convert it to `Client`.\n",
            "\u001b[92mINFO \u001b[0m:      aggregate_evaluate: received 5 results and 0 failures\n"
          ]
        },
        {
          "output_type": "stream",
          "name": "stdout",
          "text": [
            "\u001b[36m(ClientAppActor pid=2665)\u001b[0m [Client 4] Local evaluation loss: 0.0410, Dice: 0.6022\n"
          ]
        },
        {
          "output_type": "stream",
          "name": "stderr",
          "text": [
            "\u001b[92mINFO \u001b[0m:      \n",
            "\u001b[92mINFO \u001b[0m:      [ROUND 3]\n",
            "\u001b[92mINFO \u001b[0m:      configure_fit: strategy sampled 5 clients (out of 5)\n"
          ]
        },
        {
          "output_type": "stream",
          "name": "stdout",
          "text": [
            "[Round 2] Global Dice (on clean eval) = 0.7775\n"
          ]
        },
        {
          "output_type": "stream",
          "name": "stderr",
          "text": [
            "\u001b[36m(ClientAppActor pid=2665)\u001b[0m \u001b[93mWARNING \u001b[0m:   Deprecation Warning: The `client_fn` function must return an instance of `Client`, but an instance of `NumpyClient` was returned. Please use `NumPyClient.to_client()` method to convert it to `Client`.\n"
          ]
        },
        {
          "output_type": "stream",
          "name": "stdout",
          "text": [
            "\u001b[36m(ClientAppActor pid=2665)\u001b[0m [Client 0] Epoch 1 train loss: 0.0196\n",
            "\u001b[36m(ClientAppActor pid=2665)\u001b[0m [Client 0] Epoch 2 train loss: 0.0124\n"
          ]
        },
        {
          "output_type": "stream",
          "name": "stderr",
          "text": [
            "\u001b[36m(ClientAppActor pid=2665)\u001b[0m \u001b[93mWARNING \u001b[0m:   Deprecation Warning: The `client_fn` function must return an instance of `Client`, but an instance of `NumpyClient` was returned. Please use `NumPyClient.to_client()` method to convert it to `Client`.\n"
          ]
        },
        {
          "output_type": "stream",
          "name": "stdout",
          "text": [
            "\u001b[36m(ClientAppActor pid=2665)\u001b[0m [Client 1] Epoch 1 train loss: 0.0178\n",
            "\u001b[36m(ClientAppActor pid=2665)\u001b[0m [Client 1] Epoch 2 train loss: 0.0093\n"
          ]
        },
        {
          "output_type": "stream",
          "name": "stderr",
          "text": [
            "\u001b[36m(ClientAppActor pid=2665)\u001b[0m \u001b[93mWARNING \u001b[0m:   Deprecation Warning: The `client_fn` function must return an instance of `Client`, but an instance of `NumpyClient` was returned. Please use `NumPyClient.to_client()` method to convert it to `Client`.\n"
          ]
        },
        {
          "output_type": "stream",
          "name": "stdout",
          "text": [
            "\u001b[36m(ClientAppActor pid=2665)\u001b[0m [Client 2] Epoch 1 train loss: 0.0176\n",
            "\u001b[36m(ClientAppActor pid=2665)\u001b[0m [Client 2] Epoch 2 train loss: 0.0098\n"
          ]
        },
        {
          "output_type": "stream",
          "name": "stderr",
          "text": [
            "\u001b[36m(ClientAppActor pid=2665)\u001b[0m \u001b[93mWARNING \u001b[0m:   Deprecation Warning: The `client_fn` function must return an instance of `Client`, but an instance of `NumpyClient` was returned. Please use `NumPyClient.to_client()` method to convert it to `Client`.\n"
          ]
        },
        {
          "output_type": "stream",
          "name": "stdout",
          "text": [
            "\u001b[36m(ClientAppActor pid=2665)\u001b[0m [Client 3] Epoch 1 train loss: 0.0193\n",
            "\u001b[36m(ClientAppActor pid=2665)\u001b[0m [Client 3] Epoch 2 train loss: 0.0115\n"
          ]
        },
        {
          "output_type": "stream",
          "name": "stderr",
          "text": [
            "\u001b[36m(ClientAppActor pid=2665)\u001b[0m \u001b[93mWARNING \u001b[0m:   Deprecation Warning: The `client_fn` function must return an instance of `Client`, but an instance of `NumpyClient` was returned. Please use `NumPyClient.to_client()` method to convert it to `Client`.\n"
          ]
        },
        {
          "output_type": "stream",
          "name": "stdout",
          "text": [
            "\u001b[36m(ClientAppActor pid=2665)\u001b[0m [Client 4] Epoch 1 train loss: 0.0266\n",
            "\u001b[36m(ClientAppActor pid=2665)\u001b[0m [Client 4] Epoch 2 train loss: 0.0160\n"
          ]
        },
        {
          "output_type": "stream",
          "name": "stderr",
          "text": [
            "\u001b[92mINFO \u001b[0m:      aggregate_fit: received 5 results and 0 failures\n",
            "\u001b[92mINFO \u001b[0m:      configure_evaluate: strategy sampled 5 clients (out of 5)\n",
            "\u001b[36m(ClientAppActor pid=2665)\u001b[0m \u001b[93mWARNING \u001b[0m:   Deprecation Warning: The `client_fn` function must return an instance of `Client`, but an instance of `NumpyClient` was returned. Please use `NumPyClient.to_client()` method to convert it to `Client`.\n"
          ]
        },
        {
          "output_type": "stream",
          "name": "stdout",
          "text": [
            "\u001b[36m(ClientAppActor pid=2665)\u001b[0m [Client 0] Local evaluation loss: 0.0119, Dice: 0.8552\n"
          ]
        },
        {
          "output_type": "stream",
          "name": "stderr",
          "text": [
            "\u001b[36m(ClientAppActor pid=2665)\u001b[0m \u001b[93mWARNING \u001b[0m:   Deprecation Warning: The `client_fn` function must return an instance of `Client`, but an instance of `NumpyClient` was returned. Please use `NumPyClient.to_client()` method to convert it to `Client`.\n"
          ]
        },
        {
          "output_type": "stream",
          "name": "stdout",
          "text": [
            "\u001b[36m(ClientAppActor pid=2665)\u001b[0m [Client 1] Local evaluation loss: 0.0114, Dice: 0.8293\n"
          ]
        },
        {
          "output_type": "stream",
          "name": "stderr",
          "text": [
            "\u001b[36m(ClientAppActor pid=2665)\u001b[0m \u001b[93mWARNING \u001b[0m:   Deprecation Warning: The `client_fn` function must return an instance of `Client`, but an instance of `NumpyClient` was returned. Please use `NumPyClient.to_client()` method to convert it to `Client`.\n"
          ]
        },
        {
          "output_type": "stream",
          "name": "stdout",
          "text": [
            "\u001b[36m(ClientAppActor pid=2665)\u001b[0m [Client 2] Local evaluation loss: 0.0122, Dice: 0.8286\n"
          ]
        },
        {
          "output_type": "stream",
          "name": "stderr",
          "text": [
            "\u001b[36m(ClientAppActor pid=2665)\u001b[0m \u001b[93mWARNING \u001b[0m:   Deprecation Warning: The `client_fn` function must return an instance of `Client`, but an instance of `NumpyClient` was returned. Please use `NumPyClient.to_client()` method to convert it to `Client`.\n"
          ]
        },
        {
          "output_type": "stream",
          "name": "stdout",
          "text": [
            "\u001b[36m(ClientAppActor pid=2665)\u001b[0m [Client 3] Local evaluation loss: 0.0120, Dice: 0.7875\n"
          ]
        },
        {
          "output_type": "stream",
          "name": "stderr",
          "text": [
            "\u001b[36m(ClientAppActor pid=2665)\u001b[0m \u001b[93mWARNING \u001b[0m:   Deprecation Warning: The `client_fn` function must return an instance of `Client`, but an instance of `NumpyClient` was returned. Please use `NumPyClient.to_client()` method to convert it to `Client`.\n",
            "\u001b[92mINFO \u001b[0m:      aggregate_evaluate: received 5 results and 0 failures\n"
          ]
        },
        {
          "output_type": "stream",
          "name": "stdout",
          "text": [
            "\u001b[36m(ClientAppActor pid=2665)\u001b[0m [Client 4] Local evaluation loss: 0.0329, Dice: 0.6645\n"
          ]
        },
        {
          "output_type": "stream",
          "name": "stderr",
          "text": [
            "\u001b[92mINFO \u001b[0m:      \n",
            "\u001b[92mINFO \u001b[0m:      [ROUND 4]\n",
            "\u001b[92mINFO \u001b[0m:      configure_fit: strategy sampled 5 clients (out of 5)\n"
          ]
        },
        {
          "output_type": "stream",
          "name": "stdout",
          "text": [
            "[Round 3] Global Dice (on clean eval) = 0.8390\n"
          ]
        },
        {
          "output_type": "stream",
          "name": "stderr",
          "text": [
            "\u001b[36m(ClientAppActor pid=2665)\u001b[0m \u001b[93mWARNING \u001b[0m:   Deprecation Warning: The `client_fn` function must return an instance of `Client`, but an instance of `NumpyClient` was returned. Please use `NumPyClient.to_client()` method to convert it to `Client`.\n"
          ]
        },
        {
          "output_type": "stream",
          "name": "stdout",
          "text": [
            "\u001b[36m(ClientAppActor pid=2665)\u001b[0m [Client 0] Epoch 1 train loss: 0.0131\n",
            "\u001b[36m(ClientAppActor pid=2665)\u001b[0m [Client 0] Epoch 2 train loss: 0.0083\n"
          ]
        },
        {
          "output_type": "stream",
          "name": "stderr",
          "text": [
            "\u001b[36m(ClientAppActor pid=2665)\u001b[0m \u001b[93mWARNING \u001b[0m:   Deprecation Warning: The `client_fn` function must return an instance of `Client`, but an instance of `NumpyClient` was returned. Please use `NumPyClient.to_client()` method to convert it to `Client`.\n"
          ]
        },
        {
          "output_type": "stream",
          "name": "stdout",
          "text": [
            "\u001b[36m(ClientAppActor pid=2665)\u001b[0m [Client 1] Epoch 1 train loss: 0.0096\n",
            "\u001b[36m(ClientAppActor pid=2665)\u001b[0m [Client 1] Epoch 2 train loss: 0.0058\n"
          ]
        },
        {
          "output_type": "stream",
          "name": "stderr",
          "text": [
            "\u001b[36m(ClientAppActor pid=2665)\u001b[0m \u001b[93mWARNING \u001b[0m:   Deprecation Warning: The `client_fn` function must return an instance of `Client`, but an instance of `NumpyClient` was returned. Please use `NumPyClient.to_client()` method to convert it to `Client`.\n"
          ]
        },
        {
          "output_type": "stream",
          "name": "stdout",
          "text": [
            "\u001b[36m(ClientAppActor pid=2665)\u001b[0m [Client 2] Epoch 1 train loss: 0.0092\n",
            "\u001b[36m(ClientAppActor pid=2665)\u001b[0m [Client 2] Epoch 2 train loss: 0.0064\n"
          ]
        },
        {
          "output_type": "stream",
          "name": "stderr",
          "text": [
            "\u001b[36m(ClientAppActor pid=2665)\u001b[0m \u001b[93mWARNING \u001b[0m:   Deprecation Warning: The `client_fn` function must return an instance of `Client`, but an instance of `NumpyClient` was returned. Please use `NumPyClient.to_client()` method to convert it to `Client`.\n"
          ]
        },
        {
          "output_type": "stream",
          "name": "stdout",
          "text": [
            "\u001b[36m(ClientAppActor pid=2665)\u001b[0m [Client 3] Epoch 1 train loss: 0.0096\n",
            "\u001b[36m(ClientAppActor pid=2665)\u001b[0m [Client 3] Epoch 2 train loss: 0.0074\n"
          ]
        },
        {
          "output_type": "stream",
          "name": "stderr",
          "text": [
            "\u001b[36m(ClientAppActor pid=2665)\u001b[0m \u001b[93mWARNING \u001b[0m:   Deprecation Warning: The `client_fn` function must return an instance of `Client`, but an instance of `NumpyClient` was returned. Please use `NumPyClient.to_client()` method to convert it to `Client`.\n"
          ]
        },
        {
          "output_type": "stream",
          "name": "stdout",
          "text": [
            "\u001b[36m(ClientAppActor pid=2665)\u001b[0m [Client 4] Epoch 1 train loss: 0.0180\n",
            "\u001b[36m(ClientAppActor pid=2665)\u001b[0m [Client 4] Epoch 2 train loss: 0.0123\n"
          ]
        },
        {
          "output_type": "stream",
          "name": "stderr",
          "text": [
            "\u001b[92mINFO \u001b[0m:      aggregate_fit: received 5 results and 0 failures\n",
            "\u001b[92mINFO \u001b[0m:      configure_evaluate: strategy sampled 5 clients (out of 5)\n",
            "\u001b[36m(ClientAppActor pid=2665)\u001b[0m \u001b[93mWARNING \u001b[0m:   Deprecation Warning: The `client_fn` function must return an instance of `Client`, but an instance of `NumpyClient` was returned. Please use `NumPyClient.to_client()` method to convert it to `Client`.\n"
          ]
        },
        {
          "output_type": "stream",
          "name": "stdout",
          "text": [
            "\u001b[36m(ClientAppActor pid=2665)\u001b[0m [Client 0] Local evaluation loss: 0.0099, Dice: 0.8529\n"
          ]
        },
        {
          "output_type": "stream",
          "name": "stderr",
          "text": [
            "\u001b[36m(ClientAppActor pid=2665)\u001b[0m \u001b[93mWARNING \u001b[0m:   Deprecation Warning: The `client_fn` function must return an instance of `Client`, but an instance of `NumpyClient` was returned. Please use `NumPyClient.to_client()` method to convert it to `Client`.\n"
          ]
        },
        {
          "output_type": "stream",
          "name": "stdout",
          "text": [
            "\u001b[36m(ClientAppActor pid=2665)\u001b[0m [Client 1] Local evaluation loss: 0.0064, Dice: 0.8520\n"
          ]
        },
        {
          "output_type": "stream",
          "name": "stderr",
          "text": [
            "\u001b[36m(ClientAppActor pid=2665)\u001b[0m \u001b[93mWARNING \u001b[0m:   Deprecation Warning: The `client_fn` function must return an instance of `Client`, but an instance of `NumpyClient` was returned. Please use `NumPyClient.to_client()` method to convert it to `Client`.\n"
          ]
        },
        {
          "output_type": "stream",
          "name": "stdout",
          "text": [
            "\u001b[36m(ClientAppActor pid=2665)\u001b[0m [Client 2] Local evaluation loss: 0.0088, Dice: 0.8504\n"
          ]
        },
        {
          "output_type": "stream",
          "name": "stderr",
          "text": [
            "\u001b[36m(ClientAppActor pid=2665)\u001b[0m \u001b[93mWARNING \u001b[0m:   Deprecation Warning: The `client_fn` function must return an instance of `Client`, but an instance of `NumpyClient` was returned. Please use `NumPyClient.to_client()` method to convert it to `Client`.\n"
          ]
        },
        {
          "output_type": "stream",
          "name": "stdout",
          "text": [
            "\u001b[36m(ClientAppActor pid=2665)\u001b[0m [Client 3] Local evaluation loss: 0.0090, Dice: 0.8602\n"
          ]
        },
        {
          "output_type": "stream",
          "name": "stderr",
          "text": [
            "\u001b[36m(ClientAppActor pid=2665)\u001b[0m \u001b[93mWARNING \u001b[0m:   Deprecation Warning: The `client_fn` function must return an instance of `Client`, but an instance of `NumpyClient` was returned. Please use `NumPyClient.to_client()` method to convert it to `Client`.\n",
            "\u001b[92mINFO \u001b[0m:      aggregate_evaluate: received 5 results and 0 failures\n"
          ]
        },
        {
          "output_type": "stream",
          "name": "stdout",
          "text": [
            "\u001b[36m(ClientAppActor pid=2665)\u001b[0m [Client 4] Local evaluation loss: 0.0211, Dice: 0.7107\n"
          ]
        },
        {
          "output_type": "stream",
          "name": "stderr",
          "text": [
            "\u001b[92mINFO \u001b[0m:      \n",
            "\u001b[92mINFO \u001b[0m:      [ROUND 5]\n",
            "\u001b[92mINFO \u001b[0m:      configure_fit: strategy sampled 5 clients (out of 5)\n"
          ]
        },
        {
          "output_type": "stream",
          "name": "stdout",
          "text": [
            "[Round 4] Global Dice (on clean eval) = 0.8554\n"
          ]
        },
        {
          "output_type": "stream",
          "name": "stderr",
          "text": [
            "\u001b[36m(ClientAppActor pid=2665)\u001b[0m \u001b[93mWARNING \u001b[0m:   Deprecation Warning: The `client_fn` function must return an instance of `Client`, but an instance of `NumpyClient` was returned. Please use `NumPyClient.to_client()` method to convert it to `Client`.\n"
          ]
        },
        {
          "output_type": "stream",
          "name": "stdout",
          "text": [
            "\u001b[36m(ClientAppActor pid=2665)\u001b[0m [Client 0] Epoch 1 train loss: 0.0087\n",
            "\u001b[36m(ClientAppActor pid=2665)\u001b[0m [Client 0] Epoch 2 train loss: 0.0060\n"
          ]
        },
        {
          "output_type": "stream",
          "name": "stderr",
          "text": [
            "\u001b[36m(ClientAppActor pid=2665)\u001b[0m \u001b[93mWARNING \u001b[0m:   Deprecation Warning: The `client_fn` function must return an instance of `Client`, but an instance of `NumpyClient` was returned. Please use `NumPyClient.to_client()` method to convert it to `Client`.\n"
          ]
        },
        {
          "output_type": "stream",
          "name": "stdout",
          "text": [
            "\u001b[36m(ClientAppActor pid=2665)\u001b[0m [Client 1] Epoch 1 train loss: 0.0057\n",
            "\u001b[36m(ClientAppActor pid=2665)\u001b[0m [Client 1] Epoch 2 train loss: 0.0040\n"
          ]
        },
        {
          "output_type": "stream",
          "name": "stderr",
          "text": [
            "\u001b[36m(ClientAppActor pid=2665)\u001b[0m \u001b[93mWARNING \u001b[0m:   Deprecation Warning: The `client_fn` function must return an instance of `Client`, but an instance of `NumpyClient` was returned. Please use `NumPyClient.to_client()` method to convert it to `Client`.\n"
          ]
        },
        {
          "output_type": "stream",
          "name": "stdout",
          "text": [
            "\u001b[36m(ClientAppActor pid=2665)\u001b[0m [Client 2] Epoch 1 train loss: 0.0065\n",
            "\u001b[36m(ClientAppActor pid=2665)\u001b[0m [Client 2] Epoch 2 train loss: 0.0047\n"
          ]
        },
        {
          "output_type": "stream",
          "name": "stderr",
          "text": [
            "\u001b[36m(ClientAppActor pid=2665)\u001b[0m \u001b[93mWARNING \u001b[0m:   Deprecation Warning: The `client_fn` function must return an instance of `Client`, but an instance of `NumpyClient` was returned. Please use `NumPyClient.to_client()` method to convert it to `Client`.\n"
          ]
        },
        {
          "output_type": "stream",
          "name": "stdout",
          "text": [
            "\u001b[36m(ClientAppActor pid=2665)\u001b[0m [Client 3] Epoch 1 train loss: 0.0069\n",
            "\u001b[36m(ClientAppActor pid=2665)\u001b[0m [Client 3] Epoch 2 train loss: 0.0055\n"
          ]
        },
        {
          "output_type": "stream",
          "name": "stderr",
          "text": [
            "\u001b[36m(ClientAppActor pid=2665)\u001b[0m \u001b[93mWARNING \u001b[0m:   Deprecation Warning: The `client_fn` function must return an instance of `Client`, but an instance of `NumpyClient` was returned. Please use `NumPyClient.to_client()` method to convert it to `Client`.\n"
          ]
        },
        {
          "output_type": "stream",
          "name": "stdout",
          "text": [
            "\u001b[36m(ClientAppActor pid=2665)\u001b[0m [Client 4] Epoch 1 train loss: 0.0149\n",
            "\u001b[36m(ClientAppActor pid=2665)\u001b[0m [Client 4] Epoch 2 train loss: 0.0085\n"
          ]
        },
        {
          "output_type": "stream",
          "name": "stderr",
          "text": [
            "\u001b[92mINFO \u001b[0m:      aggregate_fit: received 5 results and 0 failures\n",
            "\u001b[92mINFO \u001b[0m:      configure_evaluate: strategy sampled 5 clients (out of 5)\n",
            "\u001b[36m(ClientAppActor pid=2665)\u001b[0m \u001b[93mWARNING \u001b[0m:   Deprecation Warning: The `client_fn` function must return an instance of `Client`, but an instance of `NumpyClient` was returned. Please use `NumPyClient.to_client()` method to convert it to `Client`.\n"
          ]
        },
        {
          "output_type": "stream",
          "name": "stdout",
          "text": [
            "\u001b[36m(ClientAppActor pid=2665)\u001b[0m [Client 0] Local evaluation loss: 0.0101, Dice: 0.8667\n"
          ]
        },
        {
          "output_type": "stream",
          "name": "stderr",
          "text": [
            "\u001b[36m(ClientAppActor pid=2665)\u001b[0m \u001b[93mWARNING \u001b[0m:   Deprecation Warning: The `client_fn` function must return an instance of `Client`, but an instance of `NumpyClient` was returned. Please use `NumPyClient.to_client()` method to convert it to `Client`.\n"
          ]
        },
        {
          "output_type": "stream",
          "name": "stdout",
          "text": [
            "\u001b[36m(ClientAppActor pid=2665)\u001b[0m [Client 1] Local evaluation loss: 0.0054, Dice: 0.8663\n"
          ]
        },
        {
          "output_type": "stream",
          "name": "stderr",
          "text": [
            "\u001b[36m(ClientAppActor pid=2665)\u001b[0m \u001b[93mWARNING \u001b[0m:   Deprecation Warning: The `client_fn` function must return an instance of `Client`, but an instance of `NumpyClient` was returned. Please use `NumPyClient.to_client()` method to convert it to `Client`.\n"
          ]
        },
        {
          "output_type": "stream",
          "name": "stdout",
          "text": [
            "\u001b[36m(ClientAppActor pid=2665)\u001b[0m [Client 2] Local evaluation loss: 0.0066, Dice: 0.8531\n"
          ]
        },
        {
          "output_type": "stream",
          "name": "stderr",
          "text": [
            "\u001b[36m(ClientAppActor pid=2665)\u001b[0m \u001b[93mWARNING \u001b[0m:   Deprecation Warning: The `client_fn` function must return an instance of `Client`, but an instance of `NumpyClient` was returned. Please use `NumPyClient.to_client()` method to convert it to `Client`.\n"
          ]
        },
        {
          "output_type": "stream",
          "name": "stdout",
          "text": [
            "\u001b[36m(ClientAppActor pid=2665)\u001b[0m [Client 3] Local evaluation loss: 0.0065, Dice: 0.8704\n"
          ]
        },
        {
          "output_type": "stream",
          "name": "stderr",
          "text": [
            "\u001b[36m(ClientAppActor pid=2665)\u001b[0m \u001b[93mWARNING \u001b[0m:   Deprecation Warning: The `client_fn` function must return an instance of `Client`, but an instance of `NumpyClient` was returned. Please use `NumPyClient.to_client()` method to convert it to `Client`.\n",
            "\u001b[92mINFO \u001b[0m:      aggregate_evaluate: received 5 results and 0 failures\n"
          ]
        },
        {
          "output_type": "stream",
          "name": "stdout",
          "text": [
            "\u001b[36m(ClientAppActor pid=2665)\u001b[0m [Client 4] Local evaluation loss: 0.0121, Dice: 0.7998\n"
          ]
        },
        {
          "output_type": "stream",
          "name": "stderr",
          "text": [
            "\u001b[92mINFO \u001b[0m:      \n",
            "\u001b[92mINFO \u001b[0m:      [SUMMARY]\n",
            "\u001b[92mINFO \u001b[0m:      Run finished 5 round(s) in 2752.43s\n",
            "\u001b[92mINFO \u001b[0m:      \tHistory (loss, distributed):\n",
            "\u001b[92mINFO \u001b[0m:      \t\tround 1: 0.30496009469032287\n",
            "\u001b[92mINFO \u001b[0m:      \t\tround 2: 0.02921919625252485\n",
            "\u001b[92mINFO \u001b[0m:      \t\tround 3: 0.016083625638857485\n",
            "\u001b[92mINFO \u001b[0m:      \t\tround 4: 0.01105606596916914\n",
            "\u001b[92mINFO \u001b[0m:      \t\tround 5: 0.008160556717775762\n",
            "\u001b[92mINFO \u001b[0m:      \tHistory (metrics, distributed, evaluate):\n",
            "\u001b[92mINFO \u001b[0m:      \t{'global_clean_dice': [(1, 0.5170637675697799),\n",
            "\u001b[92mINFO \u001b[0m:      \t                       (2, 0.7775298314262181),\n",
            "\u001b[92mINFO \u001b[0m:      \t                       (3, 0.839003775784513),\n",
            "\u001b[92mINFO \u001b[0m:      \t                       (4, 0.8553783626109361),\n",
            "\u001b[92mINFO \u001b[0m:      \t                       (5, 0.87556943744421)]}\n",
            "\u001b[92mINFO \u001b[0m:      \n"
          ]
        },
        {
          "output_type": "stream",
          "name": "stdout",
          "text": [
            "[Round 5] Global Dice (on clean eval) = 0.8756\n",
            "\n",
            "--- Running experiment: 1 malicious client ---\n"
          ]
        },
        {
          "output_type": "stream",
          "name": "stderr",
          "text": [
            "\u001b[92mINFO \u001b[0m:      Starting Flower ServerApp, config: num_rounds=5, no round_timeout\n",
            "\u001b[92mINFO \u001b[0m:      \n",
            "\u001b[92mINFO \u001b[0m:      [INIT]\n",
            "\u001b[92mINFO \u001b[0m:      Requesting initial parameters from one random client\n",
            "\u001b[36m(pid=14787)\u001b[0m 2025-04-08 18:41:45.102900: E external/local_xla/xla/stream_executor/cuda/cuda_fft.cc:477] Unable to register cuFFT factory: Attempting to register factory for plugin cuFFT when one has already been registered\n",
            "\u001b[36m(pid=14787)\u001b[0m WARNING: All log messages before absl::InitializeLog() is called are written to STDERR\n",
            "\u001b[36m(pid=14787)\u001b[0m E0000 00:00:1744137705.155880   14787 cuda_dnn.cc:8310] Unable to register cuDNN factory: Attempting to register factory for plugin cuDNN when one has already been registered\n",
            "\u001b[36m(pid=14787)\u001b[0m E0000 00:00:1744137705.167793   14787 cuda_blas.cc:1418] Unable to register cuBLAS factory: Attempting to register factory for plugin cuBLAS when one has already been registered\n",
            "\u001b[36m(ClientAppActor pid=14787)\u001b[0m \u001b[93mWARNING \u001b[0m:   Deprecation Warning: The `client_fn` function must return an instance of `Client`, but an instance of `NumpyClient` was returned. Please use `NumPyClient.to_client()` method to convert it to `Client`.\n",
            "\u001b[92mINFO \u001b[0m:      Received initial parameters from one random client\n",
            "\u001b[92mINFO \u001b[0m:      Starting evaluation of initial global parameters\n",
            "\u001b[92mINFO \u001b[0m:      Evaluation returned no results (`None`)\n",
            "\u001b[92mINFO \u001b[0m:      \n",
            "\u001b[92mINFO \u001b[0m:      [ROUND 1]\n",
            "\u001b[92mINFO \u001b[0m:      configure_fit: strategy sampled 5 clients (out of 5)\n",
            "\u001b[36m(ClientAppActor pid=14787)\u001b[0m \u001b[93mWARNING \u001b[0m:   Deprecation Warning: The `client_fn` function must return an instance of `Client`, but an instance of `NumpyClient` was returned. Please use `NumPyClient.to_client()` method to convert it to `Client`.\n"
          ]
        },
        {
          "output_type": "stream",
          "name": "stdout",
          "text": [
            "\u001b[36m(ClientAppActor pid=14787)\u001b[0m [Client 0] Epoch 1 train loss: 0.3476\n",
            "\u001b[36m(ClientAppActor pid=14787)\u001b[0m [Client 0] Epoch 2 train loss: 0.0861\n"
          ]
        },
        {
          "output_type": "stream",
          "name": "stderr",
          "text": [
            "\u001b[36m(ClientAppActor pid=14787)\u001b[0m \u001b[93mWARNING \u001b[0m:   Deprecation Warning: The `client_fn` function must return an instance of `Client`, but an instance of `NumpyClient` was returned. Please use `NumPyClient.to_client()` method to convert it to `Client`.\n"
          ]
        },
        {
          "output_type": "stream",
          "name": "stdout",
          "text": [
            "\u001b[36m(ClientAppActor pid=14787)\u001b[0m [Client 1] Epoch 1 train loss: 0.3363\n",
            "\u001b[36m(ClientAppActor pid=14787)\u001b[0m [Client 1] Epoch 2 train loss: 0.0818\n"
          ]
        },
        {
          "output_type": "stream",
          "name": "stderr",
          "text": [
            "\u001b[36m(ClientAppActor pid=14787)\u001b[0m \u001b[93mWARNING \u001b[0m:   Deprecation Warning: The `client_fn` function must return an instance of `Client`, but an instance of `NumpyClient` was returned. Please use `NumPyClient.to_client()` method to convert it to `Client`.\n"
          ]
        },
        {
          "output_type": "stream",
          "name": "stdout",
          "text": [
            "\u001b[36m(ClientAppActor pid=14787)\u001b[0m [Client 2] Epoch 1 train loss: 0.3307\n",
            "\u001b[36m(ClientAppActor pid=14787)\u001b[0m [Client 2] Epoch 2 train loss: 0.0859\n"
          ]
        },
        {
          "output_type": "stream",
          "name": "stderr",
          "text": [
            "\u001b[36m(ClientAppActor pid=14787)\u001b[0m \u001b[93mWARNING \u001b[0m:   Deprecation Warning: The `client_fn` function must return an instance of `Client`, but an instance of `NumpyClient` was returned. Please use `NumPyClient.to_client()` method to convert it to `Client`.\n"
          ]
        },
        {
          "output_type": "stream",
          "name": "stdout",
          "text": [
            "\u001b[36m(ClientAppActor pid=14787)\u001b[0m [Client 3] Epoch 1 train loss: 0.3268\n",
            "\u001b[36m(ClientAppActor pid=14787)\u001b[0m [Client 3] Epoch 2 train loss: 0.0801\n"
          ]
        },
        {
          "output_type": "stream",
          "name": "stderr",
          "text": [
            "\u001b[36m(ClientAppActor pid=14787)\u001b[0m \u001b[93mWARNING \u001b[0m:   Deprecation Warning: The `client_fn` function must return an instance of `Client`, but an instance of `NumpyClient` was returned. Please use `NumPyClient.to_client()` method to convert it to `Client`.\n"
          ]
        },
        {
          "output_type": "stream",
          "name": "stdout",
          "text": [
            "\u001b[36m(ClientAppActor pid=14787)\u001b[0m [Client 4] Epoch 1 train loss: 0.3247\n",
            "\u001b[36m(ClientAppActor pid=14787)\u001b[0m [Client 4] Epoch 2 train loss: 0.0932\n"
          ]
        },
        {
          "output_type": "stream",
          "name": "stderr",
          "text": [
            "\u001b[92mINFO \u001b[0m:      aggregate_fit: received 5 results and 0 failures\n",
            "\u001b[93mWARNING \u001b[0m:   No fit_metrics_aggregation_fn provided\n",
            "\u001b[92mINFO \u001b[0m:      configure_evaluate: strategy sampled 5 clients (out of 5)\n",
            "\u001b[36m(ClientAppActor pid=14787)\u001b[0m \u001b[93mWARNING \u001b[0m:   Deprecation Warning: The `client_fn` function must return an instance of `Client`, but an instance of `NumpyClient` was returned. Please use `NumPyClient.to_client()` method to convert it to `Client`.\n"
          ]
        },
        {
          "output_type": "stream",
          "name": "stdout",
          "text": [
            "\u001b[36m(ClientAppActor pid=14787)\u001b[0m [Client 0] Local evaluation loss: 0.2957, Dice: 0.2747\n"
          ]
        },
        {
          "output_type": "stream",
          "name": "stderr",
          "text": [
            "\u001b[36m(ClientAppActor pid=14787)\u001b[0m \u001b[93mWARNING \u001b[0m:   Deprecation Warning: The `client_fn` function must return an instance of `Client`, but an instance of `NumpyClient` was returned. Please use `NumPyClient.to_client()` method to convert it to `Client`.\n"
          ]
        },
        {
          "output_type": "stream",
          "name": "stdout",
          "text": [
            "\u001b[36m(ClientAppActor pid=14787)\u001b[0m [Client 1] Local evaluation loss: 0.2943, Dice: 0.1158\n"
          ]
        },
        {
          "output_type": "stream",
          "name": "stderr",
          "text": [
            "\u001b[36m(ClientAppActor pid=14787)\u001b[0m \u001b[93mWARNING \u001b[0m:   Deprecation Warning: The `client_fn` function must return an instance of `Client`, but an instance of `NumpyClient` was returned. Please use `NumPyClient.to_client()` method to convert it to `Client`.\n"
          ]
        },
        {
          "output_type": "stream",
          "name": "stdout",
          "text": [
            "\u001b[36m(ClientAppActor pid=14787)\u001b[0m [Client 2] Local evaluation loss: 0.2950, Dice: 0.1341\n"
          ]
        },
        {
          "output_type": "stream",
          "name": "stderr",
          "text": [
            "\u001b[36m(ClientAppActor pid=14787)\u001b[0m \u001b[93mWARNING \u001b[0m:   Deprecation Warning: The `client_fn` function must return an instance of `Client`, but an instance of `NumpyClient` was returned. Please use `NumPyClient.to_client()` method to convert it to `Client`.\n"
          ]
        },
        {
          "output_type": "stream",
          "name": "stdout",
          "text": [
            "\u001b[36m(ClientAppActor pid=14787)\u001b[0m [Client 3] Local evaluation loss: 0.2951, Dice: 0.1838\n"
          ]
        },
        {
          "output_type": "stream",
          "name": "stderr",
          "text": [
            "\u001b[36m(ClientAppActor pid=14787)\u001b[0m \u001b[93mWARNING \u001b[0m:   Deprecation Warning: The `client_fn` function must return an instance of `Client`, but an instance of `NumpyClient` was returned. Please use `NumPyClient.to_client()` method to convert it to `Client`.\n",
            "\u001b[92mINFO \u001b[0m:      aggregate_evaluate: received 5 results and 0 failures\n"
          ]
        },
        {
          "output_type": "stream",
          "name": "stdout",
          "text": [
            "\u001b[36m(ClientAppActor pid=14787)\u001b[0m [Client 4] Local evaluation loss: 0.3009, Dice: 0.1249\n"
          ]
        },
        {
          "output_type": "stream",
          "name": "stderr",
          "text": [
            "\u001b[92mINFO \u001b[0m:      \n",
            "\u001b[92mINFO \u001b[0m:      [ROUND 2]\n",
            "\u001b[92mINFO \u001b[0m:      configure_fit: strategy sampled 5 clients (out of 5)\n"
          ]
        },
        {
          "output_type": "stream",
          "name": "stdout",
          "text": [
            "[Round 1] Global Dice (on clean eval) = 0.1739\n"
          ]
        },
        {
          "output_type": "stream",
          "name": "stderr",
          "text": [
            "\u001b[36m(ClientAppActor pid=14787)\u001b[0m \u001b[93mWARNING \u001b[0m:   Deprecation Warning: The `client_fn` function must return an instance of `Client`, but an instance of `NumpyClient` was returned. Please use `NumPyClient.to_client()` method to convert it to `Client`.\n"
          ]
        },
        {
          "output_type": "stream",
          "name": "stdout",
          "text": [
            "\u001b[36m(ClientAppActor pid=14787)\u001b[0m [Client 0] Epoch 1 train loss: 0.0719\n",
            "\u001b[36m(ClientAppActor pid=14787)\u001b[0m [Client 0] Epoch 2 train loss: 0.0317\n"
          ]
        },
        {
          "output_type": "stream",
          "name": "stderr",
          "text": [
            "\u001b[36m(ClientAppActor pid=14787)\u001b[0m \u001b[93mWARNING \u001b[0m:   Deprecation Warning: The `client_fn` function must return an instance of `Client`, but an instance of `NumpyClient` was returned. Please use `NumPyClient.to_client()` method to convert it to `Client`.\n"
          ]
        },
        {
          "output_type": "stream",
          "name": "stdout",
          "text": [
            "\u001b[36m(ClientAppActor pid=14787)\u001b[0m [Client 1] Epoch 1 train loss: 0.0715\n",
            "\u001b[36m(ClientAppActor pid=14787)\u001b[0m [Client 1] Epoch 2 train loss: 0.0297\n"
          ]
        },
        {
          "output_type": "stream",
          "name": "stderr",
          "text": [
            "\u001b[36m(ClientAppActor pid=14787)\u001b[0m \u001b[93mWARNING \u001b[0m:   Deprecation Warning: The `client_fn` function must return an instance of `Client`, but an instance of `NumpyClient` was returned. Please use `NumPyClient.to_client()` method to convert it to `Client`.\n"
          ]
        },
        {
          "output_type": "stream",
          "name": "stdout",
          "text": [
            "\u001b[36m(ClientAppActor pid=14787)\u001b[0m [Client 2] Epoch 1 train loss: 0.0727\n",
            "\u001b[36m(ClientAppActor pid=14787)\u001b[0m [Client 2] Epoch 2 train loss: 0.0303\n"
          ]
        },
        {
          "output_type": "stream",
          "name": "stderr",
          "text": [
            "\u001b[36m(ClientAppActor pid=14787)\u001b[0m \u001b[93mWARNING \u001b[0m:   Deprecation Warning: The `client_fn` function must return an instance of `Client`, but an instance of `NumpyClient` was returned. Please use `NumPyClient.to_client()` method to convert it to `Client`.\n"
          ]
        },
        {
          "output_type": "stream",
          "name": "stdout",
          "text": [
            "\u001b[36m(ClientAppActor pid=14787)\u001b[0m [Client 3] Epoch 1 train loss: 0.0723\n",
            "\u001b[36m(ClientAppActor pid=14787)\u001b[0m [Client 3] Epoch 2 train loss: 0.0296\n"
          ]
        },
        {
          "output_type": "stream",
          "name": "stderr",
          "text": [
            "\u001b[36m(ClientAppActor pid=14787)\u001b[0m \u001b[93mWARNING \u001b[0m:   Deprecation Warning: The `client_fn` function must return an instance of `Client`, but an instance of `NumpyClient` was returned. Please use `NumPyClient.to_client()` method to convert it to `Client`.\n"
          ]
        },
        {
          "output_type": "stream",
          "name": "stdout",
          "text": [
            "\u001b[36m(ClientAppActor pid=14787)\u001b[0m [Client 4] Epoch 1 train loss: 0.0792\n",
            "\u001b[36m(ClientAppActor pid=14787)\u001b[0m [Client 4] Epoch 2 train loss: 0.0367\n"
          ]
        },
        {
          "output_type": "stream",
          "name": "stderr",
          "text": [
            "\u001b[92mINFO \u001b[0m:      aggregate_fit: received 5 results and 0 failures\n",
            "\u001b[92mINFO \u001b[0m:      configure_evaluate: strategy sampled 5 clients (out of 5)\n",
            "\u001b[36m(ClientAppActor pid=14787)\u001b[0m \u001b[93mWARNING \u001b[0m:   Deprecation Warning: The `client_fn` function must return an instance of `Client`, but an instance of `NumpyClient` was returned. Please use `NumPyClient.to_client()` method to convert it to `Client`.\n"
          ]
        },
        {
          "output_type": "stream",
          "name": "stdout",
          "text": [
            "\u001b[36m(ClientAppActor pid=14787)\u001b[0m [Client 0] Local evaluation loss: 0.0437, Dice: 0.6044\n"
          ]
        },
        {
          "output_type": "stream",
          "name": "stderr",
          "text": [
            "\u001b[36m(ClientAppActor pid=14787)\u001b[0m \u001b[93mWARNING \u001b[0m:   Deprecation Warning: The `client_fn` function must return an instance of `Client`, but an instance of `NumpyClient` was returned. Please use `NumPyClient.to_client()` method to convert it to `Client`.\n"
          ]
        },
        {
          "output_type": "stream",
          "name": "stdout",
          "text": [
            "\u001b[36m(ClientAppActor pid=14787)\u001b[0m [Client 1] Local evaluation loss: 0.0357, Dice: 0.6611\n"
          ]
        },
        {
          "output_type": "stream",
          "name": "stderr",
          "text": [
            "\u001b[36m(ClientAppActor pid=14787)\u001b[0m \u001b[93mWARNING \u001b[0m:   Deprecation Warning: The `client_fn` function must return an instance of `Client`, but an instance of `NumpyClient` was returned. Please use `NumPyClient.to_client()` method to convert it to `Client`.\n"
          ]
        },
        {
          "output_type": "stream",
          "name": "stdout",
          "text": [
            "\u001b[36m(ClientAppActor pid=14787)\u001b[0m [Client 2] Local evaluation loss: 0.0344, Dice: 0.7435\n"
          ]
        },
        {
          "output_type": "stream",
          "name": "stderr",
          "text": [
            "\u001b[36m(ClientAppActor pid=14787)\u001b[0m \u001b[93mWARNING \u001b[0m:   Deprecation Warning: The `client_fn` function must return an instance of `Client`, but an instance of `NumpyClient` was returned. Please use `NumPyClient.to_client()` method to convert it to `Client`.\n"
          ]
        },
        {
          "output_type": "stream",
          "name": "stdout",
          "text": [
            "\u001b[36m(ClientAppActor pid=14787)\u001b[0m [Client 3] Local evaluation loss: 0.0389, Dice: 0.6169\n"
          ]
        },
        {
          "output_type": "stream",
          "name": "stderr",
          "text": [
            "\u001b[36m(ClientAppActor pid=14787)\u001b[0m \u001b[93mWARNING \u001b[0m:   Deprecation Warning: The `client_fn` function must return an instance of `Client`, but an instance of `NumpyClient` was returned. Please use `NumPyClient.to_client()` method to convert it to `Client`.\n",
            "\u001b[92mINFO \u001b[0m:      aggregate_evaluate: received 5 results and 0 failures\n"
          ]
        },
        {
          "output_type": "stream",
          "name": "stdout",
          "text": [
            "\u001b[36m(ClientAppActor pid=14787)\u001b[0m [Client 4] Local evaluation loss: 0.0521, Dice: 0.5513\n"
          ]
        },
        {
          "output_type": "stream",
          "name": "stderr",
          "text": [
            "\u001b[92mINFO \u001b[0m:      \n",
            "\u001b[92mINFO \u001b[0m:      [ROUND 3]\n",
            "\u001b[92mINFO \u001b[0m:      configure_fit: strategy sampled 5 clients (out of 5)\n"
          ]
        },
        {
          "output_type": "stream",
          "name": "stdout",
          "text": [
            "[Round 2] Global Dice (on clean eval) = 0.7103\n"
          ]
        },
        {
          "output_type": "stream",
          "name": "stderr",
          "text": [
            "\u001b[36m(ClientAppActor pid=14787)\u001b[0m \u001b[93mWARNING \u001b[0m:   Deprecation Warning: The `client_fn` function must return an instance of `Client`, but an instance of `NumpyClient` was returned. Please use `NumPyClient.to_client()` method to convert it to `Client`.\n"
          ]
        },
        {
          "output_type": "stream",
          "name": "stdout",
          "text": [
            "\u001b[36m(ClientAppActor pid=14787)\u001b[0m [Client 0] Epoch 1 train loss: 0.0231\n",
            "\u001b[36m(ClientAppActor pid=14787)\u001b[0m [Client 0] Epoch 2 train loss: 0.0129\n"
          ]
        },
        {
          "output_type": "stream",
          "name": "stderr",
          "text": [
            "\u001b[36m(ClientAppActor pid=14787)\u001b[0m \u001b[93mWARNING \u001b[0m:   Deprecation Warning: The `client_fn` function must return an instance of `Client`, but an instance of `NumpyClient` was returned. Please use `NumPyClient.to_client()` method to convert it to `Client`.\n"
          ]
        },
        {
          "output_type": "stream",
          "name": "stdout",
          "text": [
            "\u001b[36m(ClientAppActor pid=14787)\u001b[0m [Client 1] Epoch 1 train loss: 0.0210\n",
            "\u001b[36m(ClientAppActor pid=14787)\u001b[0m [Client 1] Epoch 2 train loss: 0.0106\n"
          ]
        },
        {
          "output_type": "stream",
          "name": "stderr",
          "text": [
            "\u001b[36m(ClientAppActor pid=14787)\u001b[0m \u001b[93mWARNING \u001b[0m:   Deprecation Warning: The `client_fn` function must return an instance of `Client`, but an instance of `NumpyClient` was returned. Please use `NumPyClient.to_client()` method to convert it to `Client`.\n"
          ]
        },
        {
          "output_type": "stream",
          "name": "stdout",
          "text": [
            "\u001b[36m(ClientAppActor pid=14787)\u001b[0m [Client 2] Epoch 1 train loss: 0.0212\n",
            "\u001b[36m(ClientAppActor pid=14787)\u001b[0m [Client 2] Epoch 2 train loss: 0.0114\n"
          ]
        },
        {
          "output_type": "stream",
          "name": "stderr",
          "text": [
            "\u001b[36m(ClientAppActor pid=14787)\u001b[0m \u001b[93mWARNING \u001b[0m:   Deprecation Warning: The `client_fn` function must return an instance of `Client`, but an instance of `NumpyClient` was returned. Please use `NumPyClient.to_client()` method to convert it to `Client`.\n"
          ]
        },
        {
          "output_type": "stream",
          "name": "stdout",
          "text": [
            "\u001b[36m(ClientAppActor pid=14787)\u001b[0m [Client 3] Epoch 1 train loss: 0.0233\n",
            "\u001b[36m(ClientAppActor pid=14787)\u001b[0m [Client 3] Epoch 2 train loss: 0.0126\n"
          ]
        },
        {
          "output_type": "stream",
          "name": "stderr",
          "text": [
            "\u001b[36m(ClientAppActor pid=14787)\u001b[0m \u001b[93mWARNING \u001b[0m:   Deprecation Warning: The `client_fn` function must return an instance of `Client`, but an instance of `NumpyClient` was returned. Please use `NumPyClient.to_client()` method to convert it to `Client`.\n"
          ]
        },
        {
          "output_type": "stream",
          "name": "stdout",
          "text": [
            "\u001b[36m(ClientAppActor pid=14787)\u001b[0m [Client 4] Epoch 1 train loss: 0.0301\n",
            "\u001b[36m(ClientAppActor pid=14787)\u001b[0m [Client 4] Epoch 2 train loss: 0.0159\n"
          ]
        },
        {
          "output_type": "stream",
          "name": "stderr",
          "text": [
            "\u001b[92mINFO \u001b[0m:      aggregate_fit: received 5 results and 0 failures\n",
            "\u001b[92mINFO \u001b[0m:      configure_evaluate: strategy sampled 5 clients (out of 5)\n",
            "\u001b[36m(ClientAppActor pid=14787)\u001b[0m \u001b[93mWARNING \u001b[0m:   Deprecation Warning: The `client_fn` function must return an instance of `Client`, but an instance of `NumpyClient` was returned. Please use `NumPyClient.to_client()` method to convert it to `Client`.\n"
          ]
        },
        {
          "output_type": "stream",
          "name": "stdout",
          "text": [
            "\u001b[36m(ClientAppActor pid=14787)\u001b[0m [Client 0] Local evaluation loss: 0.0231, Dice: 0.7777\n"
          ]
        },
        {
          "output_type": "stream",
          "name": "stderr",
          "text": [
            "\u001b[36m(ClientAppActor pid=14787)\u001b[0m \u001b[93mWARNING \u001b[0m:   Deprecation Warning: The `client_fn` function must return an instance of `Client`, but an instance of `NumpyClient` was returned. Please use `NumPyClient.to_client()` method to convert it to `Client`.\n"
          ]
        },
        {
          "output_type": "stream",
          "name": "stdout",
          "text": [
            "\u001b[36m(ClientAppActor pid=14787)\u001b[0m [Client 1] Local evaluation loss: 0.0145, Dice: 0.8264\n"
          ]
        },
        {
          "output_type": "stream",
          "name": "stderr",
          "text": [
            "\u001b[36m(ClientAppActor pid=14787)\u001b[0m \u001b[93mWARNING \u001b[0m:   Deprecation Warning: The `client_fn` function must return an instance of `Client`, but an instance of `NumpyClient` was returned. Please use `NumPyClient.to_client()` method to convert it to `Client`.\n"
          ]
        },
        {
          "output_type": "stream",
          "name": "stdout",
          "text": [
            "\u001b[36m(ClientAppActor pid=14787)\u001b[0m [Client 2] Local evaluation loss: 0.0249, Dice: 0.7579\n"
          ]
        },
        {
          "output_type": "stream",
          "name": "stderr",
          "text": [
            "\u001b[36m(ClientAppActor pid=14787)\u001b[0m \u001b[93mWARNING \u001b[0m:   Deprecation Warning: The `client_fn` function must return an instance of `Client`, but an instance of `NumpyClient` was returned. Please use `NumPyClient.to_client()` method to convert it to `Client`.\n"
          ]
        },
        {
          "output_type": "stream",
          "name": "stdout",
          "text": [
            "\u001b[36m(ClientAppActor pid=14787)\u001b[0m [Client 3] Local evaluation loss: 0.0237, Dice: 0.7588\n"
          ]
        },
        {
          "output_type": "stream",
          "name": "stderr",
          "text": [
            "\u001b[36m(ClientAppActor pid=14787)\u001b[0m \u001b[93mWARNING \u001b[0m:   Deprecation Warning: The `client_fn` function must return an instance of `Client`, but an instance of `NumpyClient` was returned. Please use `NumPyClient.to_client()` method to convert it to `Client`.\n",
            "\u001b[92mINFO \u001b[0m:      aggregate_evaluate: received 5 results and 0 failures\n"
          ]
        },
        {
          "output_type": "stream",
          "name": "stdout",
          "text": [
            "\u001b[36m(ClientAppActor pid=14787)\u001b[0m [Client 4] Local evaluation loss: 0.0256, Dice: 0.7105\n"
          ]
        },
        {
          "output_type": "stream",
          "name": "stderr",
          "text": [
            "\u001b[92mINFO \u001b[0m:      \n",
            "\u001b[92mINFO \u001b[0m:      [ROUND 4]\n",
            "\u001b[92mINFO \u001b[0m:      configure_fit: strategy sampled 5 clients (out of 5)\n"
          ]
        },
        {
          "output_type": "stream",
          "name": "stdout",
          "text": [
            "[Round 3] Global Dice (on clean eval) = 0.7543\n"
          ]
        },
        {
          "output_type": "stream",
          "name": "stderr",
          "text": [
            "\u001b[36m(ClientAppActor pid=14787)\u001b[0m \u001b[93mWARNING \u001b[0m:   Deprecation Warning: The `client_fn` function must return an instance of `Client`, but an instance of `NumpyClient` was returned. Please use `NumPyClient.to_client()` method to convert it to `Client`.\n"
          ]
        },
        {
          "output_type": "stream",
          "name": "stdout",
          "text": [
            "\u001b[36m(ClientAppActor pid=14787)\u001b[0m [Client 0] Epoch 1 train loss: 0.0143\n",
            "\u001b[36m(ClientAppActor pid=14787)\u001b[0m [Client 0] Epoch 2 train loss: 0.0076\n"
          ]
        },
        {
          "output_type": "stream",
          "name": "stderr",
          "text": [
            "\u001b[36m(ClientAppActor pid=14787)\u001b[0m \u001b[93mWARNING \u001b[0m:   Deprecation Warning: The `client_fn` function must return an instance of `Client`, but an instance of `NumpyClient` was returned. Please use `NumPyClient.to_client()` method to convert it to `Client`.\n"
          ]
        },
        {
          "output_type": "stream",
          "name": "stdout",
          "text": [
            "\u001b[36m(ClientAppActor pid=14787)\u001b[0m [Client 1] Epoch 1 train loss: 0.0101\n",
            "\u001b[36m(ClientAppActor pid=14787)\u001b[0m [Client 1] Epoch 2 train loss: 0.0060\n"
          ]
        },
        {
          "output_type": "stream",
          "name": "stderr",
          "text": [
            "\u001b[36m(ClientAppActor pid=14787)\u001b[0m \u001b[93mWARNING \u001b[0m:   Deprecation Warning: The `client_fn` function must return an instance of `Client`, but an instance of `NumpyClient` was returned. Please use `NumPyClient.to_client()` method to convert it to `Client`.\n"
          ]
        },
        {
          "output_type": "stream",
          "name": "stdout",
          "text": [
            "\u001b[36m(ClientAppActor pid=14787)\u001b[0m [Client 2] Epoch 1 train loss: 0.0098\n",
            "\u001b[36m(ClientAppActor pid=14787)\u001b[0m [Client 2] Epoch 2 train loss: 0.0063\n"
          ]
        },
        {
          "output_type": "stream",
          "name": "stderr",
          "text": [
            "\u001b[36m(ClientAppActor pid=14787)\u001b[0m \u001b[93mWARNING \u001b[0m:   Deprecation Warning: The `client_fn` function must return an instance of `Client`, but an instance of `NumpyClient` was returned. Please use `NumPyClient.to_client()` method to convert it to `Client`.\n"
          ]
        },
        {
          "output_type": "stream",
          "name": "stdout",
          "text": [
            "\u001b[36m(ClientAppActor pid=14787)\u001b[0m [Client 3] Epoch 1 train loss: 0.0106\n",
            "\u001b[36m(ClientAppActor pid=14787)\u001b[0m [Client 3] Epoch 2 train loss: 0.0067\n"
          ]
        },
        {
          "output_type": "stream",
          "name": "stderr",
          "text": [
            "\u001b[36m(ClientAppActor pid=14787)\u001b[0m \u001b[93mWARNING \u001b[0m:   Deprecation Warning: The `client_fn` function must return an instance of `Client`, but an instance of `NumpyClient` was returned. Please use `NumPyClient.to_client()` method to convert it to `Client`.\n"
          ]
        },
        {
          "output_type": "stream",
          "name": "stdout",
          "text": [
            "\u001b[36m(ClientAppActor pid=14787)\u001b[0m [Client 4] Epoch 1 train loss: 0.0175\n",
            "\u001b[36m(ClientAppActor pid=14787)\u001b[0m [Client 4] Epoch 2 train loss: 0.0104\n"
          ]
        },
        {
          "output_type": "stream",
          "name": "stderr",
          "text": [
            "\u001b[92mINFO \u001b[0m:      aggregate_fit: received 5 results and 0 failures\n",
            "\u001b[92mINFO \u001b[0m:      configure_evaluate: strategy sampled 5 clients (out of 5)\n",
            "\u001b[36m(ClientAppActor pid=14787)\u001b[0m \u001b[93mWARNING \u001b[0m:   Deprecation Warning: The `client_fn` function must return an instance of `Client`, but an instance of `NumpyClient` was returned. Please use `NumPyClient.to_client()` method to convert it to `Client`.\n"
          ]
        },
        {
          "output_type": "stream",
          "name": "stdout",
          "text": [
            "\u001b[36m(ClientAppActor pid=14787)\u001b[0m [Client 0] Local evaluation loss: 0.0249, Dice: 0.7551\n"
          ]
        },
        {
          "output_type": "stream",
          "name": "stderr",
          "text": [
            "\u001b[36m(ClientAppActor pid=14787)\u001b[0m \u001b[93mWARNING \u001b[0m:   Deprecation Warning: The `client_fn` function must return an instance of `Client`, but an instance of `NumpyClient` was returned. Please use `NumPyClient.to_client()` method to convert it to `Client`.\n"
          ]
        },
        {
          "output_type": "stream",
          "name": "stdout",
          "text": [
            "\u001b[36m(ClientAppActor pid=14787)\u001b[0m [Client 1] Local evaluation loss: 0.0153, Dice: 0.7604\n"
          ]
        },
        {
          "output_type": "stream",
          "name": "stderr",
          "text": [
            "\u001b[36m(ClientAppActor pid=14787)\u001b[0m \u001b[93mWARNING \u001b[0m:   Deprecation Warning: The `client_fn` function must return an instance of `Client`, but an instance of `NumpyClient` was returned. Please use `NumPyClient.to_client()` method to convert it to `Client`.\n"
          ]
        },
        {
          "output_type": "stream",
          "name": "stdout",
          "text": [
            "\u001b[36m(ClientAppActor pid=14787)\u001b[0m [Client 2] Local evaluation loss: 0.0167, Dice: 0.7958\n"
          ]
        },
        {
          "output_type": "stream",
          "name": "stderr",
          "text": [
            "\u001b[36m(ClientAppActor pid=14787)\u001b[0m \u001b[93mWARNING \u001b[0m:   Deprecation Warning: The `client_fn` function must return an instance of `Client`, but an instance of `NumpyClient` was returned. Please use `NumPyClient.to_client()` method to convert it to `Client`.\n"
          ]
        },
        {
          "output_type": "stream",
          "name": "stdout",
          "text": [
            "\u001b[36m(ClientAppActor pid=14787)\u001b[0m [Client 3] Local evaluation loss: 0.0291, Dice: 0.7198\n"
          ]
        },
        {
          "output_type": "stream",
          "name": "stderr",
          "text": [
            "\u001b[36m(ClientAppActor pid=14787)\u001b[0m \u001b[93mWARNING \u001b[0m:   Deprecation Warning: The `client_fn` function must return an instance of `Client`, but an instance of `NumpyClient` was returned. Please use `NumPyClient.to_client()` method to convert it to `Client`.\n",
            "\u001b[92mINFO \u001b[0m:      aggregate_evaluate: received 5 results and 0 failures\n"
          ]
        },
        {
          "output_type": "stream",
          "name": "stdout",
          "text": [
            "\u001b[36m(ClientAppActor pid=14787)\u001b[0m [Client 4] Local evaluation loss: 0.0313, Dice: 0.6579\n"
          ]
        },
        {
          "output_type": "stream",
          "name": "stderr",
          "text": [
            "\u001b[92mINFO \u001b[0m:      \n",
            "\u001b[92mINFO \u001b[0m:      [ROUND 5]\n",
            "\u001b[92mINFO \u001b[0m:      configure_fit: strategy sampled 5 clients (out of 5)\n"
          ]
        },
        {
          "output_type": "stream",
          "name": "stdout",
          "text": [
            "[Round 4] Global Dice (on clean eval) = 0.7805\n"
          ]
        },
        {
          "output_type": "stream",
          "name": "stderr",
          "text": [
            "\u001b[36m(ClientAppActor pid=14787)\u001b[0m \u001b[93mWARNING \u001b[0m:   Deprecation Warning: The `client_fn` function must return an instance of `Client`, but an instance of `NumpyClient` was returned. Please use `NumPyClient.to_client()` method to convert it to `Client`.\n"
          ]
        },
        {
          "output_type": "stream",
          "name": "stdout",
          "text": [
            "\u001b[36m(ClientAppActor pid=14787)\u001b[0m [Client 0] Epoch 1 train loss: 0.0091\n",
            "\u001b[36m(ClientAppActor pid=14787)\u001b[0m [Client 0] Epoch 2 train loss: 0.0068\n"
          ]
        },
        {
          "output_type": "stream",
          "name": "stderr",
          "text": [
            "\u001b[36m(ClientAppActor pid=14787)\u001b[0m \u001b[93mWARNING \u001b[0m:   Deprecation Warning: The `client_fn` function must return an instance of `Client`, but an instance of `NumpyClient` was returned. Please use `NumPyClient.to_client()` method to convert it to `Client`.\n"
          ]
        },
        {
          "output_type": "stream",
          "name": "stdout",
          "text": [
            "\u001b[36m(ClientAppActor pid=14787)\u001b[0m [Client 1] Epoch 1 train loss: 0.0055\n",
            "\u001b[36m(ClientAppActor pid=14787)\u001b[0m [Client 1] Epoch 2 train loss: 0.0038\n"
          ]
        },
        {
          "output_type": "stream",
          "name": "stderr",
          "text": [
            "\u001b[36m(ClientAppActor pid=14787)\u001b[0m \u001b[93mWARNING \u001b[0m:   Deprecation Warning: The `client_fn` function must return an instance of `Client`, but an instance of `NumpyClient` was returned. Please use `NumPyClient.to_client()` method to convert it to `Client`.\n"
          ]
        },
        {
          "output_type": "stream",
          "name": "stdout",
          "text": [
            "\u001b[36m(ClientAppActor pid=14787)\u001b[0m [Client 2] Epoch 1 train loss: 0.0057\n",
            "\u001b[36m(ClientAppActor pid=14787)\u001b[0m [Client 2] Epoch 2 train loss: 0.0042\n"
          ]
        },
        {
          "output_type": "stream",
          "name": "stderr",
          "text": [
            "\u001b[36m(ClientAppActor pid=14787)\u001b[0m \u001b[93mWARNING \u001b[0m:   Deprecation Warning: The `client_fn` function must return an instance of `Client`, but an instance of `NumpyClient` was returned. Please use `NumPyClient.to_client()` method to convert it to `Client`.\n"
          ]
        },
        {
          "output_type": "stream",
          "name": "stdout",
          "text": [
            "\u001b[36m(ClientAppActor pid=14787)\u001b[0m [Client 3] Epoch 1 train loss: 0.0069\n",
            "\u001b[36m(ClientAppActor pid=14787)\u001b[0m [Client 3] Epoch 2 train loss: 0.0046\n"
          ]
        },
        {
          "output_type": "stream",
          "name": "stderr",
          "text": [
            "\u001b[36m(ClientAppActor pid=14787)\u001b[0m \u001b[93mWARNING \u001b[0m:   Deprecation Warning: The `client_fn` function must return an instance of `Client`, but an instance of `NumpyClient` was returned. Please use `NumPyClient.to_client()` method to convert it to `Client`.\n"
          ]
        },
        {
          "output_type": "stream",
          "name": "stdout",
          "text": [
            "\u001b[36m(ClientAppActor pid=14787)\u001b[0m [Client 4] Epoch 1 train loss: 0.0111\n",
            "\u001b[36m(ClientAppActor pid=14787)\u001b[0m [Client 4] Epoch 2 train loss: 0.0072\n"
          ]
        },
        {
          "output_type": "stream",
          "name": "stderr",
          "text": [
            "\u001b[92mINFO \u001b[0m:      aggregate_fit: received 5 results and 0 failures\n",
            "\u001b[92mINFO \u001b[0m:      configure_evaluate: strategy sampled 5 clients (out of 5)\n",
            "\u001b[36m(ClientAppActor pid=14787)\u001b[0m \u001b[93mWARNING \u001b[0m:   Deprecation Warning: The `client_fn` function must return an instance of `Client`, but an instance of `NumpyClient` was returned. Please use `NumPyClient.to_client()` method to convert it to `Client`.\n"
          ]
        },
        {
          "output_type": "stream",
          "name": "stdout",
          "text": [
            "\u001b[36m(ClientAppActor pid=14787)\u001b[0m [Client 0] Local evaluation loss: 0.0153, Dice: 0.7707\n"
          ]
        },
        {
          "output_type": "stream",
          "name": "stderr",
          "text": [
            "\u001b[36m(ClientAppActor pid=14787)\u001b[0m \u001b[93mWARNING \u001b[0m:   Deprecation Warning: The `client_fn` function must return an instance of `Client`, but an instance of `NumpyClient` was returned. Please use `NumPyClient.to_client()` method to convert it to `Client`.\n"
          ]
        },
        {
          "output_type": "stream",
          "name": "stdout",
          "text": [
            "\u001b[36m(ClientAppActor pid=14787)\u001b[0m [Client 1] Local evaluation loss: 0.0110, Dice: 0.8127\n"
          ]
        },
        {
          "output_type": "stream",
          "name": "stderr",
          "text": [
            "\u001b[36m(ClientAppActor pid=14787)\u001b[0m \u001b[93mWARNING \u001b[0m:   Deprecation Warning: The `client_fn` function must return an instance of `Client`, but an instance of `NumpyClient` was returned. Please use `NumPyClient.to_client()` method to convert it to `Client`.\n"
          ]
        },
        {
          "output_type": "stream",
          "name": "stdout",
          "text": [
            "\u001b[36m(ClientAppActor pid=14787)\u001b[0m [Client 2] Local evaluation loss: 0.0115, Dice: 0.8183\n"
          ]
        },
        {
          "output_type": "stream",
          "name": "stderr",
          "text": [
            "\u001b[36m(ClientAppActor pid=14787)\u001b[0m \u001b[93mWARNING \u001b[0m:   Deprecation Warning: The `client_fn` function must return an instance of `Client`, but an instance of `NumpyClient` was returned. Please use `NumPyClient.to_client()` method to convert it to `Client`.\n"
          ]
        },
        {
          "output_type": "stream",
          "name": "stdout",
          "text": [
            "\u001b[36m(ClientAppActor pid=14787)\u001b[0m [Client 3] Local evaluation loss: 0.0163, Dice: 0.7845\n"
          ]
        },
        {
          "output_type": "stream",
          "name": "stderr",
          "text": [
            "\u001b[36m(ClientAppActor pid=14787)\u001b[0m \u001b[93mWARNING \u001b[0m:   Deprecation Warning: The `client_fn` function must return an instance of `Client`, but an instance of `NumpyClient` was returned. Please use `NumPyClient.to_client()` method to convert it to `Client`.\n",
            "\u001b[92mINFO \u001b[0m:      aggregate_evaluate: received 5 results and 0 failures\n"
          ]
        },
        {
          "output_type": "stream",
          "name": "stdout",
          "text": [
            "\u001b[36m(ClientAppActor pid=14787)\u001b[0m [Client 4] Local evaluation loss: 0.0197, Dice: 0.6864\n"
          ]
        },
        {
          "output_type": "stream",
          "name": "stderr",
          "text": [
            "\u001b[92mINFO \u001b[0m:      \n",
            "\u001b[92mINFO \u001b[0m:      [SUMMARY]\n",
            "\u001b[92mINFO \u001b[0m:      Run finished 5 round(s) in 2766.58s\n",
            "\u001b[92mINFO \u001b[0m:      \tHistory (loss, distributed):\n",
            "\u001b[92mINFO \u001b[0m:      \t\tround 1: 0.29619208216667176\n",
            "\u001b[92mINFO \u001b[0m:      \t\tround 2: 0.040977278575301174\n",
            "\u001b[92mINFO \u001b[0m:      \t\tround 3: 0.022364718057215214\n",
            "\u001b[92mINFO \u001b[0m:      \t\tround 4: 0.023469013273715974\n",
            "\u001b[92mINFO \u001b[0m:      \t\tround 5: 0.014762154845520854\n",
            "\u001b[92mINFO \u001b[0m:      \tHistory (metrics, distributed, evaluate):\n",
            "\u001b[92mINFO \u001b[0m:      \t{'global_clean_dice': [(1, 0.17388523252717278),\n",
            "\u001b[92mINFO \u001b[0m:      \t                       (2, 0.710337972870475),\n",
            "\u001b[92mINFO \u001b[0m:      \t                       (3, 0.7542684851170633),\n",
            "\u001b[92mINFO \u001b[0m:      \t                       (4, 0.7805479834228755),\n",
            "\u001b[92mINFO \u001b[0m:      \t                       (5, 0.8208708350360393)]}\n",
            "\u001b[92mINFO \u001b[0m:      \n"
          ]
        },
        {
          "output_type": "stream",
          "name": "stdout",
          "text": [
            "[Round 5] Global Dice (on clean eval) = 0.8209\n",
            "\n",
            "--- Running experiment: 3 malicious clients ---\n"
          ]
        },
        {
          "output_type": "stream",
          "name": "stderr",
          "text": [
            "\u001b[92mINFO \u001b[0m:      Starting Flower ServerApp, config: num_rounds=5, no round_timeout\n",
            "\u001b[92mINFO \u001b[0m:      \n",
            "\u001b[92mINFO \u001b[0m:      [INIT]\n",
            "\u001b[92mINFO \u001b[0m:      Requesting initial parameters from one random client\n",
            "\u001b[36m(pid=26974)\u001b[0m 2025-04-08 19:28:11.159953: E external/local_xla/xla/stream_executor/cuda/cuda_fft.cc:477] Unable to register cuFFT factory: Attempting to register factory for plugin cuFFT when one has already been registered\n",
            "\u001b[36m(pid=26974)\u001b[0m WARNING: All log messages before absl::InitializeLog() is called are written to STDERR\n",
            "\u001b[36m(pid=26974)\u001b[0m E0000 00:00:1744140491.183323   26974 cuda_dnn.cc:8310] Unable to register cuDNN factory: Attempting to register factory for plugin cuDNN when one has already been registered\n",
            "\u001b[36m(pid=26974)\u001b[0m E0000 00:00:1744140491.189694   26974 cuda_blas.cc:1418] Unable to register cuBLAS factory: Attempting to register factory for plugin cuBLAS when one has already been registered\n",
            "\u001b[36m(ClientAppActor pid=26974)\u001b[0m \u001b[93mWARNING \u001b[0m:   Deprecation Warning: The `client_fn` function must return an instance of `Client`, but an instance of `NumpyClient` was returned. Please use `NumPyClient.to_client()` method to convert it to `Client`.\n",
            "\u001b[92mINFO \u001b[0m:      Received initial parameters from one random client\n",
            "\u001b[92mINFO \u001b[0m:      Starting evaluation of initial global parameters\n",
            "\u001b[92mINFO \u001b[0m:      Evaluation returned no results (`None`)\n",
            "\u001b[92mINFO \u001b[0m:      \n",
            "\u001b[92mINFO \u001b[0m:      [ROUND 1]\n",
            "\u001b[92mINFO \u001b[0m:      configure_fit: strategy sampled 5 clients (out of 5)\n",
            "\u001b[36m(ClientAppActor pid=26974)\u001b[0m \u001b[93mWARNING \u001b[0m:   Deprecation Warning: The `client_fn` function must return an instance of `Client`, but an instance of `NumpyClient` was returned. Please use `NumPyClient.to_client()` method to convert it to `Client`.\n"
          ]
        },
        {
          "output_type": "stream",
          "name": "stdout",
          "text": [
            "\u001b[36m(ClientAppActor pid=26974)\u001b[0m [Client 0] Epoch 1 train loss: 0.3594\n",
            "\u001b[36m(ClientAppActor pid=26974)\u001b[0m [Client 0] Epoch 2 train loss: 0.0932\n"
          ]
        },
        {
          "output_type": "stream",
          "name": "stderr",
          "text": [
            "\u001b[36m(ClientAppActor pid=26974)\u001b[0m \u001b[93mWARNING \u001b[0m:   Deprecation Warning: The `client_fn` function must return an instance of `Client`, but an instance of `NumpyClient` was returned. Please use `NumPyClient.to_client()` method to convert it to `Client`.\n"
          ]
        },
        {
          "output_type": "stream",
          "name": "stdout",
          "text": [
            "\u001b[36m(ClientAppActor pid=26974)\u001b[0m [Client 1] Epoch 1 train loss: 0.4212\n",
            "\u001b[36m(ClientAppActor pid=26974)\u001b[0m [Client 1] Epoch 2 train loss: 0.1054\n"
          ]
        },
        {
          "output_type": "stream",
          "name": "stderr",
          "text": [
            "\u001b[36m(ClientAppActor pid=26974)\u001b[0m \u001b[93mWARNING \u001b[0m:   Deprecation Warning: The `client_fn` function must return an instance of `Client`, but an instance of `NumpyClient` was returned. Please use `NumPyClient.to_client()` method to convert it to `Client`.\n"
          ]
        },
        {
          "output_type": "stream",
          "name": "stdout",
          "text": [
            "\u001b[36m(ClientAppActor pid=26974)\u001b[0m [Client 2] Epoch 1 train loss: 0.3972\n",
            "\u001b[36m(ClientAppActor pid=26974)\u001b[0m [Client 2] Epoch 2 train loss: 0.0989\n"
          ]
        },
        {
          "output_type": "stream",
          "name": "stderr",
          "text": [
            "\u001b[36m(ClientAppActor pid=26974)\u001b[0m \u001b[93mWARNING \u001b[0m:   Deprecation Warning: The `client_fn` function must return an instance of `Client`, but an instance of `NumpyClient` was returned. Please use `NumPyClient.to_client()` method to convert it to `Client`.\n"
          ]
        },
        {
          "output_type": "stream",
          "name": "stdout",
          "text": [
            "\u001b[36m(ClientAppActor pid=26974)\u001b[0m [Client 3] Epoch 1 train loss: 0.4030\n",
            "\u001b[36m(ClientAppActor pid=26974)\u001b[0m [Client 3] Epoch 2 train loss: 0.1005\n"
          ]
        },
        {
          "output_type": "stream",
          "name": "stderr",
          "text": [
            "\u001b[36m(ClientAppActor pid=26974)\u001b[0m \u001b[93mWARNING \u001b[0m:   Deprecation Warning: The `client_fn` function must return an instance of `Client`, but an instance of `NumpyClient` was returned. Please use `NumPyClient.to_client()` method to convert it to `Client`.\n"
          ]
        },
        {
          "output_type": "stream",
          "name": "stdout",
          "text": [
            "\u001b[36m(ClientAppActor pid=26974)\u001b[0m [Client 4] Epoch 1 train loss: 0.4170\n",
            "\u001b[36m(ClientAppActor pid=26974)\u001b[0m [Client 4] Epoch 2 train loss: 0.1119\n"
          ]
        },
        {
          "output_type": "stream",
          "name": "stderr",
          "text": [
            "\u001b[92mINFO \u001b[0m:      aggregate_fit: received 5 results and 0 failures\n",
            "\u001b[93mWARNING \u001b[0m:   No fit_metrics_aggregation_fn provided\n",
            "\u001b[92mINFO \u001b[0m:      configure_evaluate: strategy sampled 5 clients (out of 5)\n",
            "\u001b[36m(ClientAppActor pid=26974)\u001b[0m \u001b[93mWARNING \u001b[0m:   Deprecation Warning: The `client_fn` function must return an instance of `Client`, but an instance of `NumpyClient` was returned. Please use `NumPyClient.to_client()` method to convert it to `Client`.\n"
          ]
        },
        {
          "output_type": "stream",
          "name": "stdout",
          "text": [
            "\u001b[36m(ClientAppActor pid=26974)\u001b[0m [Client 0] Local evaluation loss: 0.3280, Dice: 0.4417\n"
          ]
        },
        {
          "output_type": "stream",
          "name": "stderr",
          "text": [
            "\u001b[36m(ClientAppActor pid=26974)\u001b[0m \u001b[93mWARNING \u001b[0m:   Deprecation Warning: The `client_fn` function must return an instance of `Client`, but an instance of `NumpyClient` was returned. Please use `NumPyClient.to_client()` method to convert it to `Client`.\n"
          ]
        },
        {
          "output_type": "stream",
          "name": "stdout",
          "text": [
            "\u001b[36m(ClientAppActor pid=26974)\u001b[0m [Client 1] Local evaluation loss: 0.3262, Dice: 0.3564\n"
          ]
        },
        {
          "output_type": "stream",
          "name": "stderr",
          "text": [
            "\u001b[36m(ClientAppActor pid=26974)\u001b[0m \u001b[93mWARNING \u001b[0m:   Deprecation Warning: The `client_fn` function must return an instance of `Client`, but an instance of `NumpyClient` was returned. Please use `NumPyClient.to_client()` method to convert it to `Client`.\n"
          ]
        },
        {
          "output_type": "stream",
          "name": "stdout",
          "text": [
            "\u001b[36m(ClientAppActor pid=26974)\u001b[0m [Client 2] Local evaluation loss: 0.3277, Dice: 0.5423\n"
          ]
        },
        {
          "output_type": "stream",
          "name": "stderr",
          "text": [
            "\u001b[36m(ClientAppActor pid=26974)\u001b[0m \u001b[93mWARNING \u001b[0m:   Deprecation Warning: The `client_fn` function must return an instance of `Client`, but an instance of `NumpyClient` was returned. Please use `NumPyClient.to_client()` method to convert it to `Client`.\n"
          ]
        },
        {
          "output_type": "stream",
          "name": "stdout",
          "text": [
            "\u001b[36m(ClientAppActor pid=26974)\u001b[0m [Client 3] Local evaluation loss: 0.3274, Dice: 0.4450\n"
          ]
        },
        {
          "output_type": "stream",
          "name": "stderr",
          "text": [
            "\u001b[36m(ClientAppActor pid=26974)\u001b[0m \u001b[93mWARNING \u001b[0m:   Deprecation Warning: The `client_fn` function must return an instance of `Client`, but an instance of `NumpyClient` was returned. Please use `NumPyClient.to_client()` method to convert it to `Client`.\n",
            "\u001b[92mINFO \u001b[0m:      aggregate_evaluate: received 5 results and 0 failures\n"
          ]
        },
        {
          "output_type": "stream",
          "name": "stdout",
          "text": [
            "\u001b[36m(ClientAppActor pid=26974)\u001b[0m [Client 4] Local evaluation loss: 0.3319, Dice: 0.3527\n"
          ]
        },
        {
          "output_type": "stream",
          "name": "stderr",
          "text": [
            "\u001b[92mINFO \u001b[0m:      \n",
            "\u001b[92mINFO \u001b[0m:      [ROUND 2]\n",
            "\u001b[92mINFO \u001b[0m:      configure_fit: strategy sampled 5 clients (out of 5)\n"
          ]
        },
        {
          "output_type": "stream",
          "name": "stdout",
          "text": [
            "[Round 1] Global Dice (on clean eval) = 0.4237\n"
          ]
        },
        {
          "output_type": "stream",
          "name": "stderr",
          "text": [
            "\u001b[36m(ClientAppActor pid=26974)\u001b[0m \u001b[93mWARNING \u001b[0m:   Deprecation Warning: The `client_fn` function must return an instance of `Client`, but an instance of `NumpyClient` was returned. Please use `NumPyClient.to_client()` method to convert it to `Client`.\n"
          ]
        },
        {
          "output_type": "stream",
          "name": "stdout",
          "text": [
            "\u001b[36m(ClientAppActor pid=26974)\u001b[0m [Client 0] Epoch 1 train loss: 0.0896\n",
            "\u001b[36m(ClientAppActor pid=26974)\u001b[0m [Client 0] Epoch 2 train loss: 0.0400\n"
          ]
        },
        {
          "output_type": "stream",
          "name": "stderr",
          "text": [
            "\u001b[36m(ClientAppActor pid=26974)\u001b[0m \u001b[93mWARNING \u001b[0m:   Deprecation Warning: The `client_fn` function must return an instance of `Client`, but an instance of `NumpyClient` was returned. Please use `NumPyClient.to_client()` method to convert it to `Client`.\n"
          ]
        },
        {
          "output_type": "stream",
          "name": "stdout",
          "text": [
            "\u001b[36m(ClientAppActor pid=26974)\u001b[0m [Client 1] Epoch 1 train loss: 0.0941\n",
            "\u001b[36m(ClientAppActor pid=26974)\u001b[0m [Client 1] Epoch 2 train loss: 0.0383\n"
          ]
        },
        {
          "output_type": "stream",
          "name": "stderr",
          "text": [
            "\u001b[36m(ClientAppActor pid=26974)\u001b[0m \u001b[93mWARNING \u001b[0m:   Deprecation Warning: The `client_fn` function must return an instance of `Client`, but an instance of `NumpyClient` was returned. Please use `NumPyClient.to_client()` method to convert it to `Client`.\n"
          ]
        },
        {
          "output_type": "stream",
          "name": "stdout",
          "text": [
            "\u001b[36m(ClientAppActor pid=26974)\u001b[0m [Client 2] Epoch 1 train loss: 0.0870\n",
            "\u001b[36m(ClientAppActor pid=26974)\u001b[0m [Client 2] Epoch 2 train loss: 0.0362\n"
          ]
        },
        {
          "output_type": "stream",
          "name": "stderr",
          "text": [
            "\u001b[36m(ClientAppActor pid=26974)\u001b[0m \u001b[93mWARNING \u001b[0m:   Deprecation Warning: The `client_fn` function must return an instance of `Client`, but an instance of `NumpyClient` was returned. Please use `NumPyClient.to_client()` method to convert it to `Client`.\n"
          ]
        },
        {
          "output_type": "stream",
          "name": "stdout",
          "text": [
            "\u001b[36m(ClientAppActor pid=26974)\u001b[0m [Client 3] Epoch 1 train loss: 0.0902\n",
            "\u001b[36m(ClientAppActor pid=26974)\u001b[0m [Client 3] Epoch 2 train loss: 0.0387\n"
          ]
        },
        {
          "output_type": "stream",
          "name": "stderr",
          "text": [
            "\u001b[36m(ClientAppActor pid=26974)\u001b[0m \u001b[93mWARNING \u001b[0m:   Deprecation Warning: The `client_fn` function must return an instance of `Client`, but an instance of `NumpyClient` was returned. Please use `NumPyClient.to_client()` method to convert it to `Client`.\n"
          ]
        },
        {
          "output_type": "stream",
          "name": "stdout",
          "text": [
            "\u001b[36m(ClientAppActor pid=26974)\u001b[0m [Client 4] Epoch 1 train loss: 0.0928\n",
            "\u001b[36m(ClientAppActor pid=26974)\u001b[0m [Client 4] Epoch 2 train loss: 0.0423\n"
          ]
        },
        {
          "output_type": "stream",
          "name": "stderr",
          "text": [
            "\u001b[92mINFO \u001b[0m:      aggregate_fit: received 5 results and 0 failures\n",
            "\u001b[92mINFO \u001b[0m:      configure_evaluate: strategy sampled 5 clients (out of 5)\n",
            "\u001b[36m(ClientAppActor pid=26974)\u001b[0m \u001b[93mWARNING \u001b[0m:   Deprecation Warning: The `client_fn` function must return an instance of `Client`, but an instance of `NumpyClient` was returned. Please use `NumPyClient.to_client()` method to convert it to `Client`.\n"
          ]
        },
        {
          "output_type": "stream",
          "name": "stdout",
          "text": [
            "\u001b[36m(ClientAppActor pid=26974)\u001b[0m [Client 0] Local evaluation loss: 0.0386, Dice: 0.7417\n"
          ]
        },
        {
          "output_type": "stream",
          "name": "stderr",
          "text": [
            "\u001b[36m(ClientAppActor pid=26974)\u001b[0m \u001b[93mWARNING \u001b[0m:   Deprecation Warning: The `client_fn` function must return an instance of `Client`, but an instance of `NumpyClient` was returned. Please use `NumPyClient.to_client()` method to convert it to `Client`.\n"
          ]
        },
        {
          "output_type": "stream",
          "name": "stdout",
          "text": [
            "\u001b[36m(ClientAppActor pid=26974)\u001b[0m [Client 1] Local evaluation loss: 0.0370, Dice: 0.7084\n"
          ]
        },
        {
          "output_type": "stream",
          "name": "stderr",
          "text": [
            "\u001b[36m(ClientAppActor pid=26974)\u001b[0m \u001b[93mWARNING \u001b[0m:   Deprecation Warning: The `client_fn` function must return an instance of `Client`, but an instance of `NumpyClient` was returned. Please use `NumPyClient.to_client()` method to convert it to `Client`.\n"
          ]
        },
        {
          "output_type": "stream",
          "name": "stdout",
          "text": [
            "\u001b[36m(ClientAppActor pid=26974)\u001b[0m [Client 2] Local evaluation loss: 0.0378, Dice: 0.7156\n"
          ]
        },
        {
          "output_type": "stream",
          "name": "stderr",
          "text": [
            "\u001b[36m(ClientAppActor pid=26974)\u001b[0m \u001b[93mWARNING \u001b[0m:   Deprecation Warning: The `client_fn` function must return an instance of `Client`, but an instance of `NumpyClient` was returned. Please use `NumPyClient.to_client()` method to convert it to `Client`.\n"
          ]
        },
        {
          "output_type": "stream",
          "name": "stdout",
          "text": [
            "\u001b[36m(ClientAppActor pid=26974)\u001b[0m [Client 3] Local evaluation loss: 0.0425, Dice: 0.6867\n"
          ]
        },
        {
          "output_type": "stream",
          "name": "stderr",
          "text": [
            "\u001b[36m(ClientAppActor pid=26974)\u001b[0m \u001b[93mWARNING \u001b[0m:   Deprecation Warning: The `client_fn` function must return an instance of `Client`, but an instance of `NumpyClient` was returned. Please use `NumPyClient.to_client()` method to convert it to `Client`.\n",
            "\u001b[92mINFO \u001b[0m:      aggregate_evaluate: received 5 results and 0 failures\n"
          ]
        },
        {
          "output_type": "stream",
          "name": "stdout",
          "text": [
            "\u001b[36m(ClientAppActor pid=26974)\u001b[0m [Client 4] Local evaluation loss: 0.0507, Dice: 0.5751\n"
          ]
        },
        {
          "output_type": "stream",
          "name": "stderr",
          "text": [
            "\u001b[92mINFO \u001b[0m:      \n",
            "\u001b[92mINFO \u001b[0m:      [ROUND 3]\n",
            "\u001b[92mINFO \u001b[0m:      configure_fit: strategy sampled 5 clients (out of 5)\n"
          ]
        },
        {
          "output_type": "stream",
          "name": "stdout",
          "text": [
            "[Round 2] Global Dice (on clean eval) = 0.7477\n"
          ]
        },
        {
          "output_type": "stream",
          "name": "stderr",
          "text": [
            "\u001b[36m(ClientAppActor pid=26974)\u001b[0m \u001b[93mWARNING \u001b[0m:   Deprecation Warning: The `client_fn` function must return an instance of `Client`, but an instance of `NumpyClient` was returned. Please use `NumPyClient.to_client()` method to convert it to `Client`.\n"
          ]
        },
        {
          "output_type": "stream",
          "name": "stdout",
          "text": [
            "\u001b[36m(ClientAppActor pid=26974)\u001b[0m [Client 0] Epoch 1 train loss: 0.0279\n",
            "\u001b[36m(ClientAppActor pid=26974)\u001b[0m [Client 0] Epoch 2 train loss: 0.0153\n"
          ]
        },
        {
          "output_type": "stream",
          "name": "stderr",
          "text": [
            "\u001b[36m(ClientAppActor pid=26974)\u001b[0m \u001b[93mWARNING \u001b[0m:   Deprecation Warning: The `client_fn` function must return an instance of `Client`, but an instance of `NumpyClient` was returned. Please use `NumPyClient.to_client()` method to convert it to `Client`.\n"
          ]
        },
        {
          "output_type": "stream",
          "name": "stdout",
          "text": [
            "\u001b[36m(ClientAppActor pid=26974)\u001b[0m [Client 1] Epoch 1 train loss: 0.0246\n",
            "\u001b[36m(ClientAppActor pid=26974)\u001b[0m [Client 1] Epoch 2 train loss: 0.0138\n"
          ]
        },
        {
          "output_type": "stream",
          "name": "stderr",
          "text": [
            "\u001b[36m(ClientAppActor pid=26974)\u001b[0m \u001b[93mWARNING \u001b[0m:   Deprecation Warning: The `client_fn` function must return an instance of `Client`, but an instance of `NumpyClient` was returned. Please use `NumPyClient.to_client()` method to convert it to `Client`.\n"
          ]
        },
        {
          "output_type": "stream",
          "name": "stdout",
          "text": [
            "\u001b[36m(ClientAppActor pid=26974)\u001b[0m [Client 2] Epoch 1 train loss: 0.0253\n",
            "\u001b[36m(ClientAppActor pid=26974)\u001b[0m [Client 2] Epoch 2 train loss: 0.0136\n"
          ]
        },
        {
          "output_type": "stream",
          "name": "stderr",
          "text": [
            "\u001b[36m(ClientAppActor pid=26974)\u001b[0m \u001b[93mWARNING \u001b[0m:   Deprecation Warning: The `client_fn` function must return an instance of `Client`, but an instance of `NumpyClient` was returned. Please use `NumPyClient.to_client()` method to convert it to `Client`.\n"
          ]
        },
        {
          "output_type": "stream",
          "name": "stdout",
          "text": [
            "\u001b[36m(ClientAppActor pid=26974)\u001b[0m [Client 3] Epoch 1 train loss: 0.0266\n",
            "\u001b[36m(ClientAppActor pid=26974)\u001b[0m [Client 3] Epoch 2 train loss: 0.0142\n"
          ]
        },
        {
          "output_type": "stream",
          "name": "stderr",
          "text": [
            "\u001b[36m(ClientAppActor pid=26974)\u001b[0m \u001b[93mWARNING \u001b[0m:   Deprecation Warning: The `client_fn` function must return an instance of `Client`, but an instance of `NumpyClient` was returned. Please use `NumPyClient.to_client()` method to convert it to `Client`.\n"
          ]
        },
        {
          "output_type": "stream",
          "name": "stdout",
          "text": [
            "\u001b[36m(ClientAppActor pid=26974)\u001b[0m [Client 4] Epoch 1 train loss: 0.0422\n",
            "\u001b[36m(ClientAppActor pid=26974)\u001b[0m [Client 4] Epoch 2 train loss: 0.0213\n"
          ]
        },
        {
          "output_type": "stream",
          "name": "stderr",
          "text": [
            "\u001b[92mINFO \u001b[0m:      aggregate_fit: received 5 results and 0 failures\n",
            "\u001b[92mINFO \u001b[0m:      configure_evaluate: strategy sampled 5 clients (out of 5)\n",
            "\u001b[36m(ClientAppActor pid=26974)\u001b[0m \u001b[93mWARNING \u001b[0m:   Deprecation Warning: The `client_fn` function must return an instance of `Client`, but an instance of `NumpyClient` was returned. Please use `NumPyClient.to_client()` method to convert it to `Client`.\n"
          ]
        },
        {
          "output_type": "stream",
          "name": "stdout",
          "text": [
            "\u001b[36m(ClientAppActor pid=26974)\u001b[0m [Client 0] Local evaluation loss: 0.0149, Dice: 0.7878\n"
          ]
        },
        {
          "output_type": "stream",
          "name": "stderr",
          "text": [
            "\u001b[36m(ClientAppActor pid=26974)\u001b[0m \u001b[93mWARNING \u001b[0m:   Deprecation Warning: The `client_fn` function must return an instance of `Client`, but an instance of `NumpyClient` was returned. Please use `NumPyClient.to_client()` method to convert it to `Client`.\n"
          ]
        },
        {
          "output_type": "stream",
          "name": "stdout",
          "text": [
            "\u001b[36m(ClientAppActor pid=26974)\u001b[0m [Client 1] Local evaluation loss: 0.0114, Dice: 0.8571\n"
          ]
        },
        {
          "output_type": "stream",
          "name": "stderr",
          "text": [
            "\u001b[36m(ClientAppActor pid=26974)\u001b[0m \u001b[93mWARNING \u001b[0m:   Deprecation Warning: The `client_fn` function must return an instance of `Client`, but an instance of `NumpyClient` was returned. Please use `NumPyClient.to_client()` method to convert it to `Client`.\n"
          ]
        },
        {
          "output_type": "stream",
          "name": "stdout",
          "text": [
            "\u001b[36m(ClientAppActor pid=26974)\u001b[0m [Client 2] Local evaluation loss: 0.0148, Dice: 0.7904\n"
          ]
        },
        {
          "output_type": "stream",
          "name": "stderr",
          "text": [
            "\u001b[36m(ClientAppActor pid=26974)\u001b[0m \u001b[93mWARNING \u001b[0m:   Deprecation Warning: The `client_fn` function must return an instance of `Client`, but an instance of `NumpyClient` was returned. Please use `NumPyClient.to_client()` method to convert it to `Client`.\n"
          ]
        },
        {
          "output_type": "stream",
          "name": "stdout",
          "text": [
            "\u001b[36m(ClientAppActor pid=26974)\u001b[0m [Client 3] Local evaluation loss: 0.0165, Dice: 0.8127\n"
          ]
        },
        {
          "output_type": "stream",
          "name": "stderr",
          "text": [
            "\u001b[36m(ClientAppActor pid=26974)\u001b[0m \u001b[93mWARNING \u001b[0m:   Deprecation Warning: The `client_fn` function must return an instance of `Client`, but an instance of `NumpyClient` was returned. Please use `NumPyClient.to_client()` method to convert it to `Client`.\n",
            "\u001b[92mINFO \u001b[0m:      aggregate_evaluate: received 5 results and 0 failures\n"
          ]
        },
        {
          "output_type": "stream",
          "name": "stdout",
          "text": [
            "\u001b[36m(ClientAppActor pid=26974)\u001b[0m [Client 4] Local evaluation loss: 0.0207, Dice: 0.7097\n"
          ]
        },
        {
          "output_type": "stream",
          "name": "stderr",
          "text": [
            "\u001b[92mINFO \u001b[0m:      \n",
            "\u001b[92mINFO \u001b[0m:      [ROUND 4]\n",
            "\u001b[92mINFO \u001b[0m:      configure_fit: strategy sampled 5 clients (out of 5)\n"
          ]
        },
        {
          "output_type": "stream",
          "name": "stdout",
          "text": [
            "[Round 3] Global Dice (on clean eval) = 0.7995\n"
          ]
        },
        {
          "output_type": "stream",
          "name": "stderr",
          "text": [
            "\u001b[36m(ClientAppActor pid=26974)\u001b[0m \u001b[93mWARNING \u001b[0m:   Deprecation Warning: The `client_fn` function must return an instance of `Client`, but an instance of `NumpyClient` was returned. Please use `NumPyClient.to_client()` method to convert it to `Client`.\n"
          ]
        },
        {
          "output_type": "stream",
          "name": "stdout",
          "text": [
            "\u001b[36m(ClientAppActor pid=26974)\u001b[0m [Client 0] Epoch 1 train loss: 0.0130\n",
            "\u001b[36m(ClientAppActor pid=26974)\u001b[0m [Client 0] Epoch 2 train loss: 0.0086\n"
          ]
        },
        {
          "output_type": "stream",
          "name": "stderr",
          "text": [
            "\u001b[36m(ClientAppActor pid=26974)\u001b[0m \u001b[93mWARNING \u001b[0m:   Deprecation Warning: The `client_fn` function must return an instance of `Client`, but an instance of `NumpyClient` was returned. Please use `NumPyClient.to_client()` method to convert it to `Client`.\n"
          ]
        },
        {
          "output_type": "stream",
          "name": "stdout",
          "text": [
            "\u001b[36m(ClientAppActor pid=26974)\u001b[0m [Client 1] Epoch 1 train loss: 0.0108\n",
            "\u001b[36m(ClientAppActor pid=26974)\u001b[0m [Client 1] Epoch 2 train loss: 0.0064\n"
          ]
        },
        {
          "output_type": "stream",
          "name": "stderr",
          "text": [
            "\u001b[36m(ClientAppActor pid=26974)\u001b[0m \u001b[93mWARNING \u001b[0m:   Deprecation Warning: The `client_fn` function must return an instance of `Client`, but an instance of `NumpyClient` was returned. Please use `NumPyClient.to_client()` method to convert it to `Client`.\n"
          ]
        },
        {
          "output_type": "stream",
          "name": "stdout",
          "text": [
            "\u001b[36m(ClientAppActor pid=26974)\u001b[0m [Client 2] Epoch 1 train loss: 0.0118\n",
            "\u001b[36m(ClientAppActor pid=26974)\u001b[0m [Client 2] Epoch 2 train loss: 0.0069\n"
          ]
        },
        {
          "output_type": "stream",
          "name": "stderr",
          "text": [
            "\u001b[36m(ClientAppActor pid=26974)\u001b[0m \u001b[93mWARNING \u001b[0m:   Deprecation Warning: The `client_fn` function must return an instance of `Client`, but an instance of `NumpyClient` was returned. Please use `NumPyClient.to_client()` method to convert it to `Client`.\n"
          ]
        },
        {
          "output_type": "stream",
          "name": "stdout",
          "text": [
            "\u001b[36m(ClientAppActor pid=26974)\u001b[0m [Client 3] Epoch 1 train loss: 0.0114\n",
            "\u001b[36m(ClientAppActor pid=26974)\u001b[0m [Client 3] Epoch 2 train loss: 0.0082\n"
          ]
        },
        {
          "output_type": "stream",
          "name": "stderr",
          "text": [
            "\u001b[36m(ClientAppActor pid=26974)\u001b[0m \u001b[93mWARNING \u001b[0m:   Deprecation Warning: The `client_fn` function must return an instance of `Client`, but an instance of `NumpyClient` was returned. Please use `NumPyClient.to_client()` method to convert it to `Client`.\n"
          ]
        },
        {
          "output_type": "stream",
          "name": "stdout",
          "text": [
            "\u001b[36m(ClientAppActor pid=26974)\u001b[0m [Client 4] Epoch 1 train loss: 0.0208\n",
            "\u001b[36m(ClientAppActor pid=26974)\u001b[0m [Client 4] Epoch 2 train loss: 0.0126\n"
          ]
        },
        {
          "output_type": "stream",
          "name": "stderr",
          "text": [
            "\u001b[92mINFO \u001b[0m:      aggregate_fit: received 5 results and 0 failures\n",
            "\u001b[92mINFO \u001b[0m:      configure_evaluate: strategy sampled 5 clients (out of 5)\n",
            "\u001b[36m(ClientAppActor pid=26974)\u001b[0m \u001b[93mWARNING \u001b[0m:   Deprecation Warning: The `client_fn` function must return an instance of `Client`, but an instance of `NumpyClient` was returned. Please use `NumPyClient.to_client()` method to convert it to `Client`.\n"
          ]
        },
        {
          "output_type": "stream",
          "name": "stdout",
          "text": [
            "\u001b[36m(ClientAppActor pid=26974)\u001b[0m [Client 0] Local evaluation loss: 0.0115, Dice: 0.8482\n"
          ]
        },
        {
          "output_type": "stream",
          "name": "stderr",
          "text": [
            "\u001b[36m(ClientAppActor pid=26974)\u001b[0m \u001b[93mWARNING \u001b[0m:   Deprecation Warning: The `client_fn` function must return an instance of `Client`, but an instance of `NumpyClient` was returned. Please use `NumPyClient.to_client()` method to convert it to `Client`.\n"
          ]
        },
        {
          "output_type": "stream",
          "name": "stdout",
          "text": [
            "\u001b[36m(ClientAppActor pid=26974)\u001b[0m [Client 1] Local evaluation loss: 0.0070, Dice: 0.8585\n"
          ]
        },
        {
          "output_type": "stream",
          "name": "stderr",
          "text": [
            "\u001b[36m(ClientAppActor pid=26974)\u001b[0m \u001b[93mWARNING \u001b[0m:   Deprecation Warning: The `client_fn` function must return an instance of `Client`, but an instance of `NumpyClient` was returned. Please use `NumPyClient.to_client()` method to convert it to `Client`.\n"
          ]
        },
        {
          "output_type": "stream",
          "name": "stdout",
          "text": [
            "\u001b[36m(ClientAppActor pid=26974)\u001b[0m [Client 2] Local evaluation loss: 0.0083, Dice: 0.8428\n"
          ]
        },
        {
          "output_type": "stream",
          "name": "stderr",
          "text": [
            "\u001b[36m(ClientAppActor pid=26974)\u001b[0m \u001b[93mWARNING \u001b[0m:   Deprecation Warning: The `client_fn` function must return an instance of `Client`, but an instance of `NumpyClient` was returned. Please use `NumPyClient.to_client()` method to convert it to `Client`.\n"
          ]
        },
        {
          "output_type": "stream",
          "name": "stdout",
          "text": [
            "\u001b[36m(ClientAppActor pid=26974)\u001b[0m [Client 3] Local evaluation loss: 0.0091, Dice: 0.8504\n"
          ]
        },
        {
          "output_type": "stream",
          "name": "stderr",
          "text": [
            "\u001b[36m(ClientAppActor pid=26974)\u001b[0m \u001b[93mWARNING \u001b[0m:   Deprecation Warning: The `client_fn` function must return an instance of `Client`, but an instance of `NumpyClient` was returned. Please use `NumPyClient.to_client()` method to convert it to `Client`.\n",
            "\u001b[92mINFO \u001b[0m:      aggregate_evaluate: received 5 results and 0 failures\n"
          ]
        },
        {
          "output_type": "stream",
          "name": "stdout",
          "text": [
            "\u001b[36m(ClientAppActor pid=26974)\u001b[0m [Client 4] Local evaluation loss: 0.0179, Dice: 0.6838\n"
          ]
        },
        {
          "output_type": "stream",
          "name": "stderr",
          "text": [
            "\u001b[92mINFO \u001b[0m:      \n",
            "\u001b[92mINFO \u001b[0m:      [ROUND 5]\n",
            "\u001b[92mINFO \u001b[0m:      configure_fit: strategy sampled 5 clients (out of 5)\n"
          ]
        },
        {
          "output_type": "stream",
          "name": "stdout",
          "text": [
            "[Round 4] Global Dice (on clean eval) = 0.8402\n"
          ]
        },
        {
          "output_type": "stream",
          "name": "stderr",
          "text": [
            "\u001b[36m(ClientAppActor pid=26974)\u001b[0m \u001b[93mWARNING \u001b[0m:   Deprecation Warning: The `client_fn` function must return an instance of `Client`, but an instance of `NumpyClient` was returned. Please use `NumPyClient.to_client()` method to convert it to `Client`.\n"
          ]
        },
        {
          "output_type": "stream",
          "name": "stdout",
          "text": [
            "\u001b[36m(ClientAppActor pid=26974)\u001b[0m [Client 0] Epoch 1 train loss: 0.0103\n",
            "\u001b[36m(ClientAppActor pid=26974)\u001b[0m [Client 0] Epoch 2 train loss: 0.0067\n"
          ]
        },
        {
          "output_type": "stream",
          "name": "stderr",
          "text": [
            "\u001b[36m(ClientAppActor pid=26974)\u001b[0m \u001b[93mWARNING \u001b[0m:   Deprecation Warning: The `client_fn` function must return an instance of `Client`, but an instance of `NumpyClient` was returned. Please use `NumPyClient.to_client()` method to convert it to `Client`.\n"
          ]
        },
        {
          "output_type": "stream",
          "name": "stdout",
          "text": [
            "\u001b[36m(ClientAppActor pid=26974)\u001b[0m [Client 1] Epoch 1 train loss: 0.0073\n",
            "\u001b[36m(ClientAppActor pid=26974)\u001b[0m [Client 1] Epoch 2 train loss: 0.0052\n"
          ]
        },
        {
          "output_type": "stream",
          "name": "stderr",
          "text": [
            "\u001b[36m(ClientAppActor pid=26974)\u001b[0m \u001b[93mWARNING \u001b[0m:   Deprecation Warning: The `client_fn` function must return an instance of `Client`, but an instance of `NumpyClient` was returned. Please use `NumPyClient.to_client()` method to convert it to `Client`.\n"
          ]
        },
        {
          "output_type": "stream",
          "name": "stdout",
          "text": [
            "\u001b[36m(ClientAppActor pid=26974)\u001b[0m [Client 2] Epoch 1 train loss: 0.0068\n",
            "\u001b[36m(ClientAppActor pid=26974)\u001b[0m [Client 2] Epoch 2 train loss: 0.0046\n"
          ]
        },
        {
          "output_type": "stream",
          "name": "stderr",
          "text": [
            "\u001b[36m(ClientAppActor pid=26974)\u001b[0m \u001b[93mWARNING \u001b[0m:   Deprecation Warning: The `client_fn` function must return an instance of `Client`, but an instance of `NumpyClient` was returned. Please use `NumPyClient.to_client()` method to convert it to `Client`.\n"
          ]
        },
        {
          "output_type": "stream",
          "name": "stdout",
          "text": [
            "\u001b[36m(ClientAppActor pid=26974)\u001b[0m [Client 3] Epoch 1 train loss: 0.0082\n",
            "\u001b[36m(ClientAppActor pid=26974)\u001b[0m [Client 3] Epoch 2 train loss: 0.0064\n"
          ]
        },
        {
          "output_type": "stream",
          "name": "stderr",
          "text": [
            "\u001b[36m(ClientAppActor pid=26974)\u001b[0m \u001b[93mWARNING \u001b[0m:   Deprecation Warning: The `client_fn` function must return an instance of `Client`, but an instance of `NumpyClient` was returned. Please use `NumPyClient.to_client()` method to convert it to `Client`.\n"
          ]
        },
        {
          "output_type": "stream",
          "name": "stdout",
          "text": [
            "\u001b[36m(ClientAppActor pid=26974)\u001b[0m [Client 4] Epoch 1 train loss: 0.0143\n",
            "\u001b[36m(ClientAppActor pid=26974)\u001b[0m [Client 4] Epoch 2 train loss: 0.0103\n"
          ]
        },
        {
          "output_type": "stream",
          "name": "stderr",
          "text": [
            "\u001b[92mINFO \u001b[0m:      aggregate_fit: received 5 results and 0 failures\n",
            "\u001b[92mINFO \u001b[0m:      configure_evaluate: strategy sampled 5 clients (out of 5)\n",
            "\u001b[36m(ClientAppActor pid=26974)\u001b[0m \u001b[93mWARNING \u001b[0m:   Deprecation Warning: The `client_fn` function must return an instance of `Client`, but an instance of `NumpyClient` was returned. Please use `NumPyClient.to_client()` method to convert it to `Client`.\n"
          ]
        },
        {
          "output_type": "stream",
          "name": "stdout",
          "text": [
            "\u001b[36m(ClientAppActor pid=26974)\u001b[0m [Client 0] Local evaluation loss: 0.0095, Dice: 0.8611\n"
          ]
        },
        {
          "output_type": "stream",
          "name": "stderr",
          "text": [
            "\u001b[36m(ClientAppActor pid=26974)\u001b[0m \u001b[93mWARNING \u001b[0m:   Deprecation Warning: The `client_fn` function must return an instance of `Client`, but an instance of `NumpyClient` was returned. Please use `NumPyClient.to_client()` method to convert it to `Client`.\n"
          ]
        },
        {
          "output_type": "stream",
          "name": "stdout",
          "text": [
            "\u001b[36m(ClientAppActor pid=26974)\u001b[0m [Client 1] Local evaluation loss: 0.0048, Dice: 0.8545\n"
          ]
        },
        {
          "output_type": "stream",
          "name": "stderr",
          "text": [
            "\u001b[36m(ClientAppActor pid=26974)\u001b[0m \u001b[93mWARNING \u001b[0m:   Deprecation Warning: The `client_fn` function must return an instance of `Client`, but an instance of `NumpyClient` was returned. Please use `NumPyClient.to_client()` method to convert it to `Client`.\n"
          ]
        },
        {
          "output_type": "stream",
          "name": "stdout",
          "text": [
            "\u001b[36m(ClientAppActor pid=26974)\u001b[0m [Client 2] Local evaluation loss: 0.0058, Dice: 0.8375\n"
          ]
        },
        {
          "output_type": "stream",
          "name": "stderr",
          "text": [
            "\u001b[36m(ClientAppActor pid=26974)\u001b[0m \u001b[93mWARNING \u001b[0m:   Deprecation Warning: The `client_fn` function must return an instance of `Client`, but an instance of `NumpyClient` was returned. Please use `NumPyClient.to_client()` method to convert it to `Client`.\n"
          ]
        },
        {
          "output_type": "stream",
          "name": "stdout",
          "text": [
            "\u001b[36m(ClientAppActor pid=26974)\u001b[0m [Client 3] Local evaluation loss: 0.0065, Dice: 0.8828\n"
          ]
        },
        {
          "output_type": "stream",
          "name": "stderr",
          "text": [
            "\u001b[36m(ClientAppActor pid=26974)\u001b[0m \u001b[93mWARNING \u001b[0m:   Deprecation Warning: The `client_fn` function must return an instance of `Client`, but an instance of `NumpyClient` was returned. Please use `NumPyClient.to_client()` method to convert it to `Client`.\n",
            "\u001b[92mINFO \u001b[0m:      aggregate_evaluate: received 5 results and 0 failures\n"
          ]
        },
        {
          "output_type": "stream",
          "name": "stdout",
          "text": [
            "\u001b[36m(ClientAppActor pid=26974)\u001b[0m [Client 4] Local evaluation loss: 0.0258, Dice: 0.7091\n"
          ]
        },
        {
          "output_type": "stream",
          "name": "stderr",
          "text": [
            "\u001b[92mINFO \u001b[0m:      \n",
            "\u001b[92mINFO \u001b[0m:      [SUMMARY]\n",
            "\u001b[92mINFO \u001b[0m:      Run finished 5 round(s) in 2764.23s\n",
            "\u001b[92mINFO \u001b[0m:      \tHistory (loss, distributed):\n",
            "\u001b[92mINFO \u001b[0m:      \t\tround 1: 0.32822479128837584\n",
            "\u001b[92mINFO \u001b[0m:      \t\tround 2: 0.041322070695459845\n",
            "\u001b[92mINFO \u001b[0m:      \t\tround 3: 0.015681457202881575\n",
            "\u001b[92mINFO \u001b[0m:      \t\tround 4: 0.010750650707632304\n",
            "\u001b[92mINFO \u001b[0m:      \t\tround 5: 0.01046474785078317\n",
            "\u001b[92mINFO \u001b[0m:      \tHistory (metrics, distributed, evaluate):\n",
            "\u001b[92mINFO \u001b[0m:      \t{'global_clean_dice': [(1, 0.4236663945927285),\n",
            "\u001b[92mINFO \u001b[0m:      \t                       (2, 0.7476936639654741),\n",
            "\u001b[92mINFO \u001b[0m:      \t                       (3, 0.799474587560544),\n",
            "\u001b[92mINFO \u001b[0m:      \t                       (4, 0.8401877179741859),\n",
            "\u001b[92mINFO \u001b[0m:      \t                       (5, 0.8667852824926376)]}\n",
            "\u001b[92mINFO \u001b[0m:      \n"
          ]
        },
        {
          "output_type": "stream",
          "name": "stdout",
          "text": [
            "[Round 5] Global Dice (on clean eval) = 0.8668\n"
          ]
        }
      ]
    },
    {
      "cell_type": "code",
      "source": [
        "# Plotting the results: global round on x-axis, Dice score on y-axis.\n",
        "rounds = list(range(1, num_global_rounds + 1))\n",
        "plt.figure(figsize=(8, 6))\n",
        "for label, dice_scores in results.items():\n",
        "    plt.plot(rounds, dice_scores, marker=\"o\", label=label)\n",
        "plt.xlabel(\"Global Rounds\")\n",
        "plt.ylabel(\"Global Clean Dice Score\")\n",
        "plt.title(\"Global Dice Score vs. Global Rounds for Various Malicious Client Configurations\")\n",
        "plt.legend()\n",
        "plt.grid(True)\n",
        "plt.show()"
      ],
      "metadata": {
        "colab": {
          "base_uri": "https://localhost:8080/",
          "height": 564
        },
        "id": "bBdBxjzZikJn",
        "outputId": "7d6bf39c-80ff-47db-da67-7cb4267c90f3"
      },
      "execution_count": 24,
      "outputs": [
        {
          "output_type": "display_data",
          "data": {
            "text/plain": [
              "<Figure size 800x600 with 1 Axes>"
            ],
            "image/png": "[encoded data removed]"
          },
          "metadata": {}
        }
      ]
    },
    {
      "cell_type": "code",
      "source": [
        "#########################################\n",
        "# New Experiment and Results Plotting   #\n",
        "#########################################\n",
        "if __name__ == \"__main__\":\n",
        "    # Set experiment parameters.\n",
        "    num_global_rounds = 5\n",
        "    local_epochs = 2\n",
        "    batch_size = BATCH_SIZE\n",
        "    val_fraction = 0.2\n",
        "\n",
        "    # Run the baseline (all clean) simulation.\n",
        "    print(\"\\n--- Running Baseline (All Clean, 0 malicious) Experiment ---\")\n",
        "    baseline_history = run_experiment(num_global_rounds,\n",
        "                                      local_epochs,\n",
        "                                      malicious_data_percentage=0.0,  # All clients clean\n",
        "                                      num_malicious_clients=0,\n",
        "                                      batch_size=batch_size,\n",
        "                                      val_fraction=val_fraction)\n",
        "    baseline_final = baseline_history[-1]\n",
        "    print(f\"Baseline final global Dice: {baseline_final:.4f}\")\n",
        "\n",
        "    # Define experiments for various malicious percentages.\n",
        "    malicious_percentages = [0.5,0.3, 0.25, 0.2, 0.1]  # 30%, 25%, 20%, 10% malicious data\n",
        "    client_configurations = [1,2,3]  # 1 malicious client and 3 malicious clients\n",
        "\n",
        "    # Dictionary to hold experiment results for plotting.\n",
        "    experiments_results = {}\n",
        "    # List for saving table rows.\n",
        "    table_data = []\n",
        "\n",
        "    for num_mal_clients in client_configurations:\n",
        "        for mal_percent in malicious_percentages:\n",
        "            label = f\"{num_mal_clients} malicious, {int(mal_percent*100)}% mal\"\n",
        "            print(f\"\\n--- Running Experiment: {label} ---\")\n",
        "            dice_history = run_experiment(num_global_rounds,\n",
        "                                          local_epochs,\n",
        "                                          malicious_data_percentage=mal_percent,\n",
        "                                          num_malicious_clients=num_mal_clients,\n",
        "                                          batch_size=batch_size,\n",
        "                                          val_fraction=val_fraction)\n",
        "            experiments_results[label] = dice_history\n",
        "            final_dice = dice_history[-1]\n",
        "            dice_drop = MANUAL_BASELINE_DICE - final_dice\n",
        "            table_data.append({\n",
        "                \"Malicious Clients\": f\"{num_mal_clients} / {NUM_CLIENTS}\",\n",
        "                \"Malicious Data Percentage\": f\"{int(mal_percent*100)}%\",\n",
        "                \"Drop in Dice\": dice_drop\n",
        "            })\n",
        "\n",
        "    #########################################\n",
        "    # Plotting the Global Dice Curves       #\n",
        "    #########################################\n",
        "    rounds = list(range(1, num_global_rounds + 1))\n",
        "    plt.figure(figsize=(10, 6))\n",
        "    for label, dice_scores in experiments_results.items():\n",
        "        plt.plot(rounds, dice_scores, marker=\"o\", label=label)\n",
        "    # Plot the baseline as a horizontal dashed line.\n",
        "    plt.axhline(y=baseline_final, color=\"gray\", linestyle=\"--\", label=\"Baseline (All Clean)\")\n",
        "    plt.xlabel(\"Global Rounds\")\n",
        "    plt.ylabel(\"Global Clean Dice Score\")\n",
        "    plt.title(\"Global Dice Score vs. Global Rounds for Various Malicious Settings\")\n",
        "    plt.legend()\n",
        "    plt.grid(True)\n",
        "    plt.show()\n",
        "\n",
        "    #########################################\n",
        "    # Creating and Printing the Results Table#\n",
        "    #########################################\n",
        "    df_results = pd.DataFrame(table_data)\n",
        "    print(\"\\nSummary Table: Drop in Global Dice from the Baseline (MANUAL_BASELINE_DICE)\")\n",
        "    print(df_results.to_string(index=False))\n"
      ],
      "metadata": {
        "id": "15HfPhjRuy2m"
      },
      "execution_count": null,
      "outputs": []
    }
  ]
}